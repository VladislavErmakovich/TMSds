{
 "cells": [
  {
   "cell_type": "code",
   "execution_count": null,
   "metadata": {
    "colab": {
     "base_uri": "https://localhost:8080/"
    },
    "id": "IFox8YPz8WDj",
    "outputId": "c3e21797-fbdf-4e98-e214-abf6a41b5fa5"
   },
   "outputs": [
    {
     "name": "stdout",
     "output_type": "stream",
     "text": [
      "[[1 2 3]\n",
      " [4 5 6]\n",
      " [7 8 9]]\n"
     ]
    },
    {
     "data": {
      "text/plain": [
       "int"
      ]
     },
     "execution_count": 1,
     "metadata": {},
     "output_type": "execute_result"
    }
   ],
   "source": [
    "import numpy as np\n",
    "matrix = np.array([\n",
    "    [1,2,3],\n",
    "    [4,5,6],\n",
    "    [7,8,9]\n",
    "])\n",
    "print(matrix)\n",
    "type(matrix.shape[0])"
   ]
  },
  {
   "cell_type": "markdown",
   "metadata": {
    "id": "Vg6E_Oqz_Fsp"
   },
   "source": [
    "Даны матрицы A B C\n",
    "\n",
    "Найти: А+В, В-А, A*C, A*B*C (руками и кодом)\n",
    "\n",
    "Умножение будем рассматривать векторное"
   ]
  },
  {
   "cell_type": "code",
   "execution_count": null,
   "metadata": {
    "id": "JTXTB7BXHIsD"
   },
   "outputs": [],
   "source": [
    "#функции написанные самим, без библиотеки\n",
    "def cod_sum_matrix(matrix_1: np.array, matrix_2: np.array)-> None:\n",
    "    if matrix_1.shape == matrix_2.shape:\n",
    "        matrix_res = np.zeros((matrix_2.shape[0], matrix_2.shape[1]),dtype = int)\n",
    "        for i in range(matrix_2.shape[0]):\n",
    "            for j in range(matrix_2.shape[1]):\n",
    "                matrix_res[i][j] = matrix_1[i][j] + matrix_2[i][j]\n",
    "    else:\n",
    "        print(\"Error\")\n",
    "    print(matrix_res)\n",
    "\n",
    "def cod_sub_matrix(matrix_1: np.array, matrix_2: np.array)-> None:\n",
    "    if matrix_1.shape == matrix_2.shape:\n",
    "        matrix_res = np.zeros((matrix_2.shape[0], matrix_2.shape[1]),dtype = int)\n",
    "        for i in range(matrix_2.shape[0]):\n",
    "            for j in range(matrix_2.shape[1]):\n",
    "                matrix_res[i][j] = matrix_1[i][j] - matrix_2[i][j]\n",
    "    else:\n",
    "        print(\"Error\")\n",
    "    print(matrix_res)\n",
    "\n",
    "def cod_mult_matrix(matrix_1: np.array, matrix_2: np.array)-> np.array:\n",
    "    if matrix_1.shape[1] == matrix_2.shape[0]:\n",
    "        matrix_res = np.zeros((matrix_1.shape[0], matrix_2.shape[1]), dtype=int)\n",
    "        for i in range(matrix_1.shape[0]):\n",
    "            for j in range(matrix_2.shape[1]):\n",
    "                for k in range(matrix_1.shape[1]):\n",
    "                    matrix_res[i][j] += matrix_1[i][k] * matrix_2[k][j]\n",
    "    return matrix_res\n",
    "\n",
    "def trans_matrix(matrix_1: np.array)->None:\n",
    "    matrix_res = np.zeros((matrix_1.shape[0],matrix_1.shape[1]),dtype = int)\n",
    "    for i in range(matrix_1.shape[0]):\n",
    "        for j in range(matrix_1.shape[1]):\n",
    "            matrix_res[j][i] = matrix_1[i][j]\n",
    "    print(matrix_res)\n"
   ]
  },
  {
   "cell_type": "code",
   "execution_count": null,
   "metadata": {
    "colab": {
     "base_uri": "https://localhost:8080/"
    },
    "id": "24fVAHTmJC0x",
    "outputId": "eba1ed82-ba4e-4a23-fe0d-78f2de9f4d2d"
   },
   "outputs": [
    {
     "name": "stdout",
     "output_type": "stream",
     "text": [
      "[[ 0  2  7]\n",
      " [ 9 -1 -1]\n",
      " [-9  2  8]]\n",
      "\n",
      "[[ -2  -2  -1]\n",
      " [ -5 -11   3]\n",
      " [ -5   0   2]]\n",
      "\n",
      "[[34 -1]\n",
      " [-8 23]\n",
      " [29 -9]]\n",
      "\n",
      "[[ 193 -100]\n",
      " [ -50   35]\n",
      " [  92  -61]]\n",
      "\n",
      "[[ 1  7 -2]\n",
      " [ 2  5  1]\n",
      " [ 4 -2  3]]\n"
     ]
    }
   ],
   "source": [
    "matrix_a =np.array([\n",
    "    [1,2,4],\n",
    "    [7,5,-2],\n",
    "    [-2,1,3]\n",
    "])\n",
    "matrix_b =np.array([\n",
    "    [-1,0,3],\n",
    "    [2,-6,1],\n",
    "    [-7,1,5]\n",
    "])\n",
    "matrix_c =np.array([\n",
    "    [-2,3],\n",
    "    [4,0],\n",
    "    [7,-1]\n",
    "])\n",
    "cod_sum_matrix(matrix_a, matrix_b)\n",
    "print()\n",
    "cod_sub_matrix(matrix_b,matrix_a)\n",
    "print()\n",
    "matrix_ac = cod_mult_matrix(matrix_a,matrix_c)\n",
    "print(f\"{matrix_ac}\\n\")\n",
    "matrix_ab = cod_mult_matrix(matrix_a,matrix_b)\n",
    "matrix_abc = cod_mult_matrix(matrix_ab,matrix_c)\n",
    "print(f\"{matrix_abc}\\n\")\n",
    "trans_matrix(matrix_a)"
   ]
  },
  {
   "cell_type": "code",
   "execution_count": null,
   "metadata": {
    "id": "CZ_rufO69fAu"
   },
   "outputs": [],
   "source": [
    "#функции библиотеки\n",
    "def sum_matrix(matrix_1: np.array, matrix_2: np.array)-> np.array:\n",
    "    print(\"A + B :\")\n",
    "    matrix_res = matrix_1 + matrix_2\n",
    "    print(matrix_res)\n",
    "\n",
    "\n",
    "def subtraction_matrix(matrix_1: np.array,matrix_2: np.array)-> np.array:\n",
    "    print(\"\\nB - A:\")\n",
    "    matrix_res = matrix_1 - matrix_2\n",
    "    print(matrix_res)\n",
    "\n",
    "\n",
    "def mult_matrix_ac(matrix_1: np.array,matrix_2: np.array)-> np.array:\n",
    "    print(\"\\nA * C:\")\n",
    "    matrix_res = np.dot(matrix_1,matrix_2)\n",
    "    print(matrix_res)\n",
    "\n",
    "def mult_matrix_abc(matrix_1: np.array,matrix_2: np.array, matrix_3: np.array)-> np.array:\n",
    "    print(\"\\nA * B * C:\")\n",
    "    matrix_res = np.dot(np.dot(matrix_1,matrix_2),matrix_3)\n",
    "    print(matrix_res)"
   ]
  },
  {
   "attachments": {},
   "cell_type": "markdown",
   "metadata": {
    "id": "zaVMMMHPmF4a"
   },
   "source": []
  },
  {
   "cell_type": "code",
   "execution_count": null,
   "metadata": {
    "colab": {
     "base_uri": "https://localhost:8080/"
    },
    "id": "jRTBPVcjlwFk",
    "outputId": "d80cc8a9-6c0d-48ec-c8d7-99c98f65bbd1"
   },
   "outputs": [
    {
     "name": "stdout",
     "output_type": "stream",
     "text": [
      "A + B :\n",
      "[[ 0  2  7]\n",
      " [ 9 -1 -1]\n",
      " [-9  2  8]]\n",
      "\n",
      "B - A:\n",
      "[[ -2  -2  -1]\n",
      " [ -5 -11   3]\n",
      " [ -5   0   2]]\n",
      "\n",
      "A * C:\n",
      "[[34 -1]\n",
      " [-8 23]\n",
      " [29 -9]]\n",
      "\n",
      "A * B * C:\n",
      "[[ 193 -100]\n",
      " [ -50   35]\n",
      " [  92  -61]]\n"
     ]
    }
   ],
   "source": [
    "matrix_a =np.array([\n",
    "    [1,2,4],\n",
    "    [7,5,-2],\n",
    "    [-2,1,3]\n",
    "])\n",
    "matrix_b =np.array([\n",
    "    [-1,0,3],\n",
    "    [2,-6,1],\n",
    "    [-7,1,5]\n",
    "])\n",
    "matrix_c =np.array([\n",
    "    [-2,3],\n",
    "    [4,0],\n",
    "    [7,-1]\n",
    "])\n",
    "\n",
    "sum_matrix(matrix_a, matrix_b)\n",
    "subtraction_matrix(matrix_b,matrix_a)\n",
    "mult_matrix_ac(matrix_a, matrix_c)\n",
    "mult_matrix_abc(matrix_a, matrix_b,matrix_c)"
   ]
  },
  {
   "cell_type": "code",
   "execution_count": null,
   "metadata": {
    "colab": {
     "base_uri": "https://localhost:8080/"
    },
    "id": "ga6ag2ywA6TY",
    "outputId": "beac0faa-f884-481c-d459-4c065ce47c55"
   },
   "outputs": [
    {
     "name": "stdout",
     "output_type": "stream",
     "text": [
      "A + B :\n",
      "[[ 1  5  8]\n",
      " [ 0  1 -4]\n",
      " [-1 -3  8]]\n",
      "\n",
      "B - A:\n",
      "[[ 1 -1  0]\n",
      " [14 -1  0]\n",
      " [-5 -1  2]]\n",
      "\n",
      "A * C:\n",
      "[[ -4  40]\n",
      " [ 23 -24]\n",
      " [ -9  21]]\n",
      "\n",
      "A * B * C:\n",
      "[[ -41   84]\n",
      " [  22 -308]\n",
      " [  17  139]]\n"
     ]
    }
   ],
   "source": [
    "matrix_a =np.array([\n",
    "    [0,3,4],\n",
    "    [-7,1,-2],\n",
    "    [2,-1,3]\n",
    "])\n",
    "matrix_b =np.array([\n",
    "    [1,2,4],\n",
    "    [7,0,-2],\n",
    "    [-3,-2,5]\n",
    "])\n",
    "matrix_c =np.array([\n",
    "    [-3,2],\n",
    "    [0,4],\n",
    "    [-1,7]\n",
    "])\n",
    "\n",
    "sum_matrix(matrix_a, matrix_b)\n",
    "subtraction_matrix(matrix_b,matrix_a)\n",
    "mult_matrix_ac(matrix_a, matrix_c)\n",
    "mult_matrix_abc(matrix_a, matrix_b,matrix_c)"
   ]
  },
  {
   "cell_type": "code",
   "execution_count": null,
   "metadata": {
    "colab": {
     "base_uri": "https://localhost:8080/"
    },
    "id": "Sbgt4cbrA688",
    "outputId": "afe00fe4-1a9d-4385-cdfc-28b6995e3b39"
   },
   "outputs": [
    {
     "name": "stdout",
     "output_type": "stream",
     "text": [
      "A + B :\n",
      "[[ 6  0 10]\n",
      " [14  5 -4]\n",
      " [-4  9  9]]\n",
      "\n",
      "B - A:\n",
      "[[-4 -4 -8]\n",
      " [ 0  5  0]\n",
      " [ 0  7 -3]]\n",
      "\n",
      "A * C:\n",
      "[[ -2  16]\n",
      " [-14  23]\n",
      " [  8  -7]]\n",
      "\n",
      "A * B * C:\n",
      "[[ 286  335]\n",
      " [-142 -118]\n",
      " [ 242  250]]\n"
     ]
    }
   ],
   "source": [
    "matrix_a =np.array([\n",
    "    [5,2,9],\n",
    "    [7,0,-2],\n",
    "    [-2,1,6]\n",
    "])\n",
    "matrix_b =np.array([\n",
    "    [1,-2,1],\n",
    "    [7,5,-2],\n",
    "    [-2,8,3]\n",
    "])\n",
    "matrix_c =np.array([\n",
    "    [-2,3],\n",
    "    [4,5],\n",
    "    [0,-1]\n",
    "])\n",
    "\n",
    "sum_matrix(matrix_a, matrix_b)\n",
    "subtraction_matrix(matrix_b,matrix_a)\n",
    "mult_matrix_ac(matrix_a, matrix_c)\n",
    "mult_matrix_abc(matrix_a, matrix_b,matrix_c)"
   ]
  },
  {
   "cell_type": "code",
   "execution_count": null,
   "metadata": {
    "colab": {
     "base_uri": "https://localhost:8080/"
    },
    "id": "t0jIyDwnA7Vl",
    "outputId": "b7708a6d-a5f6-4855-de91-54b0021f2e27"
   },
   "outputs": [
    {
     "name": "stdout",
     "output_type": "stream",
     "text": [
      "A + B :\n",
      "[[ 1  0 12]\n",
      " [ 8  2 -4]\n",
      " [-4  4  3]]\n",
      "\n",
      "B - A:\n",
      "[[-1  4 -4]\n",
      " [-6 -8  0]\n",
      " [ 0 -2  3]]\n",
      "\n",
      "A * C:\n",
      "[[ 46   3]\n",
      " [ 11   3]\n",
      " [ 15 -18]]\n",
      "\n",
      "A * B * C:\n",
      "[[ 304 -150]\n",
      " [  69   27]\n",
      " [-163   75]]\n"
     ]
    }
   ],
   "source": [
    "matrix_a =np.array([\n",
    "    [1,-2,8],\n",
    "    [7,5,-2],\n",
    "    [-2,3,0]\n",
    "])\n",
    "matrix_b =np.array([\n",
    "    [0,2,4],\n",
    "    [1,-3,-2],\n",
    "    [-2,1,3]\n",
    "])\n",
    "matrix_c =np.array([\n",
    "    [0,3],\n",
    "    [5,-4],\n",
    "    [7,-1]\n",
    "])\n",
    "\n",
    "sum_matrix(matrix_a, matrix_b)\n",
    "subtraction_matrix(matrix_b,matrix_a)\n",
    "mult_matrix_ac(matrix_a, matrix_c)\n",
    "mult_matrix_abc(matrix_a, matrix_b,matrix_c)"
   ]
  },
  {
   "cell_type": "code",
   "execution_count": null,
   "metadata": {
    "colab": {
     "base_uri": "https://localhost:8080/"
    },
    "id": "6JBaVoDbynlY",
    "outputId": "757ea72b-7737-472d-8678-cec8194d3ac4"
   },
   "outputs": [
    {
     "name": "stdout",
     "output_type": "stream",
     "text": [
      "A + B :\n",
      "[[17  4  8]\n",
      " [ 7  6 -8]\n",
      " [ 4 -1  9]]\n",
      "\n",
      "B - A:\n",
      "[[-1  0  0]\n",
      " [-7 -4  2]\n",
      " [-8  3  3]]\n",
      "\n",
      "A * C:\n",
      "[[ -6  12]\n",
      " [  1  45]\n",
      " [-17 -19]]\n"
     ]
    }
   ],
   "source": [
    "matrix_a =np.array([\n",
    "    [9,2,4],\n",
    "    [7,5,-5],\n",
    "    [6,-2,3]\n",
    "])\n",
    "matrix_b =np.array([\n",
    "    [8,2,4],\n",
    "    [0,1,-3],\n",
    "    [-2,1,6]\n",
    "])\n",
    "matrix_c =np.array([\n",
    "    [-2,0],\n",
    "    [4,8],\n",
    "    [1,-1]\n",
    "])\n",
    "\n",
    "sum_matrix(matrix_a, matrix_b)\n",
    "subtraction_matrix(matrix_b,matrix_a)\n",
    "mult_matrix_ac(matrix_a, matrix_c)"
   ]
  }
 ],
 "metadata": {
  "colab": {
   "provenance": []
  },
  "kernelspec": {
   "display_name": "Python 3 (ipykernel)",
   "language": "python",
   "name": "python3"
  },
  "language_info": {
   "codemirror_mode": {
    "name": "ipython",
    "version": 3
   },
   "file_extension": ".py",
   "mimetype": "text/x-python",
   "name": "python",
   "nbconvert_exporter": "python",
   "pygments_lexer": "ipython3",
   "version": "3.11.5"
  }
 },
 "nbformat": 4,
 "nbformat_minor": 1
}
