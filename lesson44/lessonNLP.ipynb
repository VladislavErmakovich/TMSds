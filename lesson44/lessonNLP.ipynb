{
  "cells": [
    {
      "cell_type": "code",
      "execution_count": null,
      "id": "5f3ec3f6-c8ef-4538-adc9-b2ad8f963362",
      "metadata": {
        "id": "5f3ec3f6-c8ef-4538-adc9-b2ad8f963362"
      },
      "outputs": [],
      "source": [
        "import pandas as pd"
      ]
    },
    {
      "cell_type": "code",
      "execution_count": null,
      "id": "b7f0b7bc-eaf3-4270-bd55-251ca93439c9",
      "metadata": {
        "id": "b7f0b7bc-eaf3-4270-bd55-251ca93439c9"
      },
      "outputs": [],
      "source": [
        "from sklearn.model_selection import train_test_split\n",
        "from sklearn.feature_extraction.text import CountVectorizer, TfidfTransformer, TfidfVectorizer\n",
        "from sklearn.linear_model import LogisticRegression\n",
        "from sklearn.metrics import accuracy_score, classification_report, confusion_matrix\n",
        "import optuna\n",
        "import time\n",
        "import re\n",
        "import warnings"
      ]
    },
    {
      "cell_type": "code",
      "execution_count": null,
      "id": "ba253db3-2ef3-46da-9444-ac8591eedb4c",
      "metadata": {
        "id": "ba253db3-2ef3-46da-9444-ac8591eedb4c"
      },
      "outputs": [],
      "source": [
        "import nltk\n",
        "from nltk.corpus import stopwords\n",
        "from nltk.tokenize import word_tokenize\n",
        "from nltk.stem import WordNetLemmatizer"
      ]
    },
    {
      "cell_type": "code",
      "execution_count": null,
      "id": "e12b1c58-1cad-4829-b6c9-03b7ab0860b3",
      "metadata": {
        "id": "e12b1c58-1cad-4829-b6c9-03b7ab0860b3"
      },
      "outputs": [],
      "source": [
        "from sklearn.model_selection import GridSearchCV\n",
        "from sklearn.svm import SVC"
      ]
    },
    {
      "cell_type": "code",
      "execution_count": null,
      "id": "a966911a-3493-41eb-8764-032dd00b1adf",
      "metadata": {
        "id": "a966911a-3493-41eb-8764-032dd00b1adf",
        "outputId": "be93d302-c581-40f6-8648-b43e3e4d0dfa"
      },
      "outputs": [
        {
          "name": "stderr",
          "output_type": "stream",
          "text": [
            "[nltk_data] Downloading package punkt_tab to\n",
            "[nltk_data]     C:\\Users\\vlade\\AppData\\Roaming\\nltk_data...\n",
            "[nltk_data]   Package punkt_tab is already up-to-date!\n",
            "[nltk_data] Downloading package stopwords to\n",
            "[nltk_data]     C:\\Users\\vlade\\AppData\\Roaming\\nltk_data...\n",
            "[nltk_data]   Package stopwords is already up-to-date!\n",
            "[nltk_data] Downloading package wordnet to\n",
            "[nltk_data]     C:\\Users\\vlade\\AppData\\Roaming\\nltk_data...\n",
            "[nltk_data]   Package wordnet is already up-to-date!\n"
          ]
        },
        {
          "data": {
            "text/plain": [
              "True"
            ]
          },
          "execution_count": 5,
          "metadata": {},
          "output_type": "execute_result"
        }
      ],
      "source": [
        "\n",
        "nltk.download('punkt_tab')\n",
        "nltk.download('stopwords')\n",
        "nltk.download('wordnet')\n"
      ]
    },
    {
      "cell_type": "code",
      "execution_count": null,
      "id": "81b69f8e-f023-42fb-af61-5c48a9396eec",
      "metadata": {
        "id": "81b69f8e-f023-42fb-af61-5c48a9396eec"
      },
      "outputs": [],
      "source": [
        "warnings.filterwarnings(\"ignore\")"
      ]
    },
    {
      "cell_type": "code",
      "execution_count": null,
      "id": "4b97b463-16f9-4408-99f3-341a0ade628d",
      "metadata": {
        "id": "4b97b463-16f9-4408-99f3-341a0ade628d"
      },
      "outputs": [],
      "source": [
        "data = pd.read_csv(\"IMDB Dataset.csv\", on_bad_lines='skip')"
      ]
    },
    {
      "cell_type": "code",
      "execution_count": null,
      "id": "e41c230e-c173-4e42-9eed-9d48b3fc1f5a",
      "metadata": {
        "id": "e41c230e-c173-4e42-9eed-9d48b3fc1f5a",
        "outputId": "0ad7e99a-6bc7-47ae-cd99-cc7705e77133"
      },
      "outputs": [
        {
          "name": "stdout",
          "output_type": "stream",
          "text": [
            "<class 'pandas.core.frame.DataFrame'>\n",
            "RangeIndex: 50000 entries, 0 to 49999\n",
            "Data columns (total 2 columns):\n",
            " #   Column     Non-Null Count  Dtype \n",
            "---  ------     --------------  ----- \n",
            " 0   review     50000 non-null  object\n",
            " 1   sentiment  50000 non-null  object\n",
            "dtypes: object(2)\n",
            "memory usage: 781.4+ KB\n"
          ]
        }
      ],
      "source": [
        "data.info()"
      ]
    },
    {
      "cell_type": "code",
      "execution_count": null,
      "id": "59acfe43-5317-422c-ae24-6021b14cb7e5",
      "metadata": {
        "id": "59acfe43-5317-422c-ae24-6021b14cb7e5",
        "outputId": "f3bffc18-d7aa-48ff-d9bb-38b79544d041"
      },
      "outputs": [
        {
          "data": {
            "text/plain": [
              "array(['positive', 'negative'], dtype=object)"
            ]
          },
          "execution_count": 8,
          "metadata": {},
          "output_type": "execute_result"
        }
      ],
      "source": [
        "data['sentiment'].unique()"
      ]
    },
    {
      "cell_type": "code",
      "execution_count": null,
      "id": "7101421c-57b3-440c-a037-6b8d93acbf53",
      "metadata": {
        "id": "7101421c-57b3-440c-a037-6b8d93acbf53"
      },
      "outputs": [],
      "source": [
        "def preprocess_text(text):\n",
        "    # Удаление специальных символов и приведение к нижнему регистру\n",
        "    text = re.sub(r'\\W', ' ', text)\n",
        "    #text = text.lower()\n",
        "\n",
        "    # Токенизация\n",
        "    tokens = nltk.word_tokenize(text)\n",
        "\n",
        "    # Удаление стоп-слов\n",
        "    stop_words = set(stopwords.words('english'))\n",
        "    tokens = [word for word in tokens if word not in stop_words]\n",
        "\n",
        "    # Лемматизация\n",
        "    lemmatizer = WordNetLemmatizer()\n",
        "    tokens = [lemmatizer.lemmatize(word) for word in tokens]\n",
        "\n",
        "    return ' '.join(tokens)"
      ]
    },
    {
      "cell_type": "code",
      "execution_count": null,
      "id": "1fb7c8b0-9202-4f35-8ba2-aa5e942dc8d9",
      "metadata": {
        "id": "1fb7c8b0-9202-4f35-8ba2-aa5e942dc8d9"
      },
      "outputs": [],
      "source": [
        "data['sentiment'] = data['sentiment'].map({'positive': 1, 'negative': 0})"
      ]
    },
    {
      "cell_type": "code",
      "execution_count": null,
      "id": "8a934505-6911-4592-a15c-a8e0ec3ed726",
      "metadata": {
        "id": "8a934505-6911-4592-a15c-a8e0ec3ed726",
        "outputId": "f09c8ca1-652f-4e48-be87-7e3c56bafdd5"
      },
      "outputs": [
        {
          "data": {
            "text/plain": [
              "0        1\n",
              "1        1\n",
              "2        1\n",
              "3        0\n",
              "4        1\n",
              "        ..\n",
              "49995    1\n",
              "49996    0\n",
              "49997    0\n",
              "49998    0\n",
              "49999    0\n",
              "Name: sentiment, Length: 50000, dtype: int64"
            ]
          },
          "execution_count": 24,
          "metadata": {},
          "output_type": "execute_result"
        }
      ],
      "source": [
        "data['sentiment']"
      ]
    },
    {
      "cell_type": "code",
      "execution_count": null,
      "id": "3e6dc777-1a48-4f16-976f-9e867afa1c52",
      "metadata": {
        "id": "3e6dc777-1a48-4f16-976f-9e867afa1c52"
      },
      "outputs": [],
      "source": [
        "preprocessed_texts = [preprocess_text(text) for text in data['review']]"
      ]
    },
    {
      "cell_type": "markdown",
      "id": "84b54095-6e12-4a43-a927-558ab6373352",
      "metadata": {
        "id": "84b54095-6e12-4a43-a927-558ab6373352"
      },
      "source": [
        "### TF-IDF"
      ]
    },
    {
      "cell_type": "code",
      "execution_count": null,
      "id": "ba058179-65f8-4f03-be27-c205dd163f45",
      "metadata": {
        "id": "ba058179-65f8-4f03-be27-c205dd163f45"
      },
      "outputs": [],
      "source": [
        "# Векторизация с помощью TF-IDF\n",
        "vectorizer = TfidfVectorizer()\n",
        "X = vectorizer.fit_transform(preprocessed_texts)"
      ]
    },
    {
      "cell_type": "code",
      "execution_count": null,
      "id": "b144921f-5771-476b-a7bb-7e6e46abad33",
      "metadata": {
        "id": "b144921f-5771-476b-a7bb-7e6e46abad33"
      },
      "outputs": [],
      "source": [
        "X_train, X_test, y_train, y_test = train_test_split(X, data['sentiment'], test_size=0.2, random_state=42)"
      ]
    },
    {
      "cell_type": "code",
      "execution_count": null,
      "id": "86e74572-1ebd-4c65-a47c-0faa2c415d59",
      "metadata": {
        "id": "86e74572-1ebd-4c65-a47c-0faa2c415d59",
        "outputId": "1d0cc542-734e-4f21-e177-c6baa0c0cb0e"
      },
      "outputs": [
        {
          "name": "stdout",
          "output_type": "stream",
          "text": [
            "Accuracy: 0.90\n",
            "              precision    recall  f1-score   support\n",
            "\n",
            "           0       0.91      0.88      0.89      4961\n",
            "           1       0.89      0.91      0.90      5039\n",
            "\n",
            "    accuracy                           0.90     10000\n",
            "   macro avg       0.90      0.90      0.90     10000\n",
            "weighted avg       0.90      0.90      0.90     10000\n",
            "\n",
            "[[4369  592]\n",
            " [ 443 4596]]\n"
          ]
        }
      ],
      "source": [
        "# Обучение модели логистической регрессии\n",
        "clf = LogisticRegression(max_iter=100)\n",
        "clf.fit(X_train, y_train)\n",
        "\n",
        "\n",
        "\n",
        "# Предсказание меток для тестовых данных\n",
        "y_pred = clf.predict(X_test)\n",
        "\n",
        "# Оценка точности модели\n",
        "accuracy = accuracy_score(y_test, y_pred)\n",
        "print(f\"Accuracy: {accuracy:.2f}\")\n",
        "\n",
        "# Вывод отчета о классификации и матрицы ошибок\n",
        "print(classification_report(y_test, y_pred))\n",
        "print(confusion_matrix(y_test, y_pred))\n"
      ]
    },
    {
      "cell_type": "code",
      "execution_count": null,
      "id": "567d102d-10a3-4479-a0ef-758f88e13196",
      "metadata": {
        "id": "567d102d-10a3-4479-a0ef-758f88e13196"
      },
      "outputs": [],
      "source": [
        "from sklearn.ensemble import RandomForestClassifier\n"
      ]
    },
    {
      "cell_type": "code",
      "execution_count": null,
      "id": "b278b7cd-69e6-4cb5-80ae-a6299131d7fb",
      "metadata": {
        "scrolled": true,
        "id": "b278b7cd-69e6-4cb5-80ae-a6299131d7fb",
        "outputId": "755b1775-d5af-43a9-9f4c-2e2908e190d1"
      },
      "outputs": [
        {
          "name": "stdout",
          "output_type": "stream",
          "text": [
            "Accuracy(train) = 0.91985\n",
            "Accuracy(test) = 0.8511\n"
          ]
        }
      ],
      "source": [
        "model = RandomForestClassifier(n_estimators=1000,\n",
        "                              criterion='log_loss',\n",
        "                              max_depth=20,\n",
        "                              min_samples_split=10,\n",
        "                              min_samples_leaf=1,\n",
        "                              random_state = 0)\n",
        "\n",
        "\n",
        "model.fit(X_train, y_train)\n",
        "\n",
        "y_pred = model.predict(X_train)\n",
        "accuracy = accuracy_score(y_train, y_pred)\n",
        "print(f'Accuracy(train) = {accuracy}')\n",
        "\n",
        "y_pred = model.predict(X_test)\n",
        "accuracy = accuracy_score(y_test, y_pred)\n",
        "print(f'Accuracy(test) = {accuracy}')"
      ]
    },
    {
      "cell_type": "code",
      "execution_count": null,
      "id": "633d5fdb-e982-4e68-a2b8-16fae7c56480",
      "metadata": {
        "scrolled": true,
        "id": "633d5fdb-e982-4e68-a2b8-16fae7c56480",
        "outputId": "ddbd8666-c738-40c3-dc3d-1ae852a182ef"
      },
      "outputs": [
        {
          "name": "stderr",
          "output_type": "stream",
          "text": [
            "[I 2024-08-22 18:50:33,422] A new study created in memory with name: no-name-2e362d7b-6ff7-442f-bfe3-817d57a1b136\n",
            "[I 2024-08-22 18:52:55,706] Trial 0 finished with value: 0.8532 and parameters: {'n_estimators': 584, 'max_depth': 26, 'min_samples_split': 19, 'min_samples_leaf': 9, 'criterion': 'entropy'}. Best is trial 0 with value: 0.8532.\n"
          ]
        },
        {
          "name": "stdout",
          "output_type": "stream",
          "text": [
            "Время: 2.37 минут\n"
          ]
        },
        {
          "name": "stderr",
          "output_type": "stream",
          "text": [
            "[I 2024-08-22 18:55:00,755] Trial 1 finished with value: 0.8535 and parameters: {'n_estimators': 507, 'max_depth': 28, 'min_samples_split': 5, 'min_samples_leaf': 8, 'criterion': 'gini'}. Best is trial 1 with value: 0.8535.\n"
          ]
        },
        {
          "name": "stdout",
          "output_type": "stream",
          "text": [
            "Время: 2.08 минут\n"
          ]
        },
        {
          "name": "stderr",
          "output_type": "stream",
          "text": [
            "[I 2024-08-22 18:57:16,792] Trial 2 finished with value: 0.8523 and parameters: {'n_estimators': 563, 'max_depth': 27, 'min_samples_split': 3, 'min_samples_leaf': 9, 'criterion': 'log_loss'}. Best is trial 1 with value: 0.8535.\n"
          ]
        },
        {
          "name": "stdout",
          "output_type": "stream",
          "text": [
            "Время: 2.27 минут\n"
          ]
        },
        {
          "name": "stderr",
          "output_type": "stream",
          "text": [
            "[I 2024-08-22 18:58:34,910] Trial 3 finished with value: 0.8523 and parameters: {'n_estimators': 356, 'max_depth': 22, 'min_samples_split': 7, 'min_samples_leaf': 4, 'criterion': 'gini'}. Best is trial 1 with value: 0.8535.\n"
          ]
        },
        {
          "name": "stdout",
          "output_type": "stream",
          "text": [
            "Время: 1.30 минут\n"
          ]
        },
        {
          "name": "stderr",
          "output_type": "stream",
          "text": [
            "[I 2024-08-22 19:00:22,110] Trial 4 finished with value: 0.8501 and parameters: {'n_estimators': 731, 'max_depth': 15, 'min_samples_split': 8, 'min_samples_leaf': 4, 'criterion': 'gini'}. Best is trial 1 with value: 0.8535.\n"
          ]
        },
        {
          "name": "stdout",
          "output_type": "stream",
          "text": [
            "Время: 1.79 минут\n"
          ]
        },
        {
          "name": "stderr",
          "output_type": "stream",
          "text": [
            "[I 2024-08-22 19:01:00,621] Trial 5 finished with value: 0.8496 and parameters: {'n_estimators': 165, 'max_depth': 22, 'min_samples_split': 9, 'min_samples_leaf': 2, 'criterion': 'gini'}. Best is trial 1 with value: 0.8535.\n"
          ]
        },
        {
          "name": "stdout",
          "output_type": "stream",
          "text": [
            "Время: 0.64 минут\n"
          ]
        },
        {
          "name": "stderr",
          "output_type": "stream",
          "text": [
            "[I 2024-08-22 19:01:19,775] Trial 6 finished with value: 0.8389 and parameters: {'n_estimators': 382, 'max_depth': 5, 'min_samples_split': 14, 'min_samples_leaf': 5, 'criterion': 'entropy'}. Best is trial 1 with value: 0.8535.\n"
          ]
        },
        {
          "name": "stdout",
          "output_type": "stream",
          "text": [
            "Время: 0.32 минут\n"
          ]
        },
        {
          "name": "stderr",
          "output_type": "stream",
          "text": [
            "[I 2024-08-22 19:05:45,024] Trial 7 finished with value: 0.8574 and parameters: {'n_estimators': 855, 'max_depth': 29, 'min_samples_split': 5, 'min_samples_leaf': 4, 'criterion': 'log_loss'}. Best is trial 7 with value: 0.8574.\n"
          ]
        },
        {
          "name": "stdout",
          "output_type": "stream",
          "text": [
            "Время: 4.42 минут\n"
          ]
        },
        {
          "name": "stderr",
          "output_type": "stream",
          "text": [
            "[I 2024-08-22 19:07:47,080] Trial 8 finished with value: 0.8492 and parameters: {'n_estimators': 717, 'max_depth': 17, 'min_samples_split': 9, 'min_samples_leaf': 5, 'criterion': 'entropy'}. Best is trial 7 with value: 0.8574.\n"
          ]
        },
        {
          "name": "stdout",
          "output_type": "stream",
          "text": [
            "Время: 2.03 минут\n"
          ]
        },
        {
          "name": "stderr",
          "output_type": "stream",
          "text": [
            "[I 2024-08-22 19:08:08,869] Trial 9 finished with value: 0.8397 and parameters: {'n_estimators': 200, 'max_depth': 11, 'min_samples_split': 7, 'min_samples_leaf': 6, 'criterion': 'entropy'}. Best is trial 7 with value: 0.8574.\n"
          ]
        },
        {
          "name": "stdout",
          "output_type": "stream",
          "text": [
            "Время: 0.36 минут\n"
          ]
        },
        {
          "name": "stderr",
          "output_type": "stream",
          "text": [
            "[I 2024-08-22 19:12:27,668] Trial 10 finished with value: 0.8568 and parameters: {'n_estimators': 992, 'max_depth': 23, 'min_samples_split': 13, 'min_samples_leaf': 1, 'criterion': 'log_loss'}. Best is trial 7 with value: 0.8574.\n"
          ]
        },
        {
          "name": "stdout",
          "output_type": "stream",
          "text": [
            "Время: 4.31 минут\n"
          ]
        },
        {
          "name": "stderr",
          "output_type": "stream",
          "text": [
            "[I 2024-08-22 19:18:19,430] Trial 11 finished with value: 0.8593 and parameters: {'n_estimators': 988, 'max_depth': 30, 'min_samples_split': 13, 'min_samples_leaf': 1, 'criterion': 'log_loss'}. Best is trial 11 with value: 0.8593.\n"
          ]
        },
        {
          "name": "stdout",
          "output_type": "stream",
          "text": [
            "Время: 5.86 минут\n"
          ]
        },
        {
          "name": "stderr",
          "output_type": "stream",
          "text": [
            "[I 2024-08-22 19:23:19,041] Trial 12 finished with value: 0.8582 and parameters: {'n_estimators': 977, 'max_depth': 28, 'min_samples_split': 16, 'min_samples_leaf': 2, 'criterion': 'log_loss'}. Best is trial 11 with value: 0.8593.\n"
          ]
        },
        {
          "name": "stdout",
          "output_type": "stream",
          "text": [
            "Время: 4.99 минут\n"
          ]
        },
        {
          "name": "stderr",
          "output_type": "stream",
          "text": [
            "[I 2024-08-22 19:28:58,265] Trial 13 finished with value: 0.8612 and parameters: {'n_estimators': 983, 'max_depth': 30, 'min_samples_split': 17, 'min_samples_leaf': 1, 'criterion': 'log_loss'}. Best is trial 13 with value: 0.8612.\n"
          ]
        },
        {
          "name": "stdout",
          "output_type": "stream",
          "text": [
            "Время: 5.65 минут\n"
          ]
        },
        {
          "name": "stderr",
          "output_type": "stream",
          "text": [
            "[I 2024-08-22 19:33:51,495] Trial 14 finished with value: 0.8589 and parameters: {'n_estimators': 869, 'max_depth': 30, 'min_samples_split': 20, 'min_samples_leaf': 1, 'criterion': 'log_loss'}. Best is trial 13 with value: 0.8612.\n"
          ]
        },
        {
          "name": "stdout",
          "output_type": "stream",
          "text": [
            "Время: 4.89 минут\n"
          ]
        },
        {
          "name": "stderr",
          "output_type": "stream",
          "text": [
            "[I 2024-08-22 19:37:34,922] Trial 15 finished with value: 0.8558 and parameters: {'n_estimators': 841, 'max_depth': 25, 'min_samples_split': 17, 'min_samples_leaf': 2, 'criterion': 'log_loss'}. Best is trial 13 with value: 0.8612.\n"
          ]
        },
        {
          "name": "stdout",
          "output_type": "stream",
          "text": [
            "Время: 3.72 минут\n"
          ]
        },
        {
          "name": "stderr",
          "output_type": "stream",
          "text": [
            "[I 2024-08-22 19:39:33,104] Trial 16 finished with value: 0.8481 and parameters: {'n_estimators': 737, 'max_depth': 12, 'min_samples_split': 12, 'min_samples_leaf': 3, 'criterion': 'log_loss'}. Best is trial 13 with value: 0.8612.\n"
          ]
        },
        {
          "name": "stdout",
          "output_type": "stream",
          "text": [
            "Время: 1.97 минут\n"
          ]
        },
        {
          "name": "stderr",
          "output_type": "stream",
          "text": [
            "[I 2024-08-22 19:43:35,134] Trial 17 finished with value: 0.8525 and parameters: {'n_estimators': 996, 'max_depth': 20, 'min_samples_split': 15, 'min_samples_leaf': 7, 'criterion': 'log_loss'}. Best is trial 13 with value: 0.8612.\n"
          ]
        },
        {
          "name": "stdout",
          "output_type": "stream",
          "text": [
            "Время: 4.03 минут\n"
          ]
        },
        {
          "name": "stderr",
          "output_type": "stream",
          "text": [
            "[I 2024-08-22 19:50:55,767] Trial 18 finished with value: 0.8592 and parameters: {'n_estimators': 882, 'max_depth': 30, 'min_samples_split': 18, 'min_samples_leaf': 1, 'criterion': 'log_loss'}. Best is trial 13 with value: 0.8612.\n"
          ]
        },
        {
          "name": "stdout",
          "output_type": "stream",
          "text": [
            "Время: 7.34 минут\n"
          ]
        },
        {
          "name": "stderr",
          "output_type": "stream",
          "text": [
            "[I 2024-08-22 19:54:34,067] Trial 19 finished with value: 0.8553 and parameters: {'n_estimators': 653, 'max_depth': 25, 'min_samples_split': 10, 'min_samples_leaf': 3, 'criterion': 'log_loss'}. Best is trial 13 with value: 0.8612.\n"
          ]
        },
        {
          "name": "stdout",
          "output_type": "stream",
          "text": [
            "Время: 3.64 минут\n"
          ]
        },
        {
          "name": "stderr",
          "output_type": "stream",
          "text": [
            "[I 2024-08-22 19:58:21,830] Trial 20 finished with value: 0.8526 and parameters: {'n_estimators': 906, 'max_depth': 19, 'min_samples_split': 12, 'min_samples_leaf': 3, 'criterion': 'log_loss'}. Best is trial 13 with value: 0.8612.\n"
          ]
        },
        {
          "name": "stdout",
          "output_type": "stream",
          "text": [
            "Время: 3.80 минут\n"
          ]
        },
        {
          "name": "stderr",
          "output_type": "stream",
          "text": [
            "[I 2024-08-22 20:05:29,832] Trial 21 finished with value: 0.8588 and parameters: {'n_estimators': 902, 'max_depth': 30, 'min_samples_split': 18, 'min_samples_leaf': 1, 'criterion': 'log_loss'}. Best is trial 13 with value: 0.8612.\n"
          ]
        },
        {
          "name": "stdout",
          "output_type": "stream",
          "text": [
            "Время: 7.13 минут\n"
          ]
        },
        {
          "name": "stderr",
          "output_type": "stream",
          "text": [
            "[I 2024-08-22 20:12:28,472] Trial 22 finished with value: 0.8603 and parameters: {'n_estimators': 791, 'max_depth': 30, 'min_samples_split': 16, 'min_samples_leaf': 1, 'criterion': 'log_loss'}. Best is trial 13 with value: 0.8612.\n"
          ]
        },
        {
          "name": "stdout",
          "output_type": "stream",
          "text": [
            "Время: 6.98 минут\n"
          ]
        },
        {
          "name": "stderr",
          "output_type": "stream",
          "text": [
            "[I 2024-08-22 20:17:05,882] Trial 23 finished with value: 0.8548 and parameters: {'n_estimators': 789, 'max_depth': 24, 'min_samples_split': 16, 'min_samples_leaf': 2, 'criterion': 'log_loss'}. Best is trial 13 with value: 0.8612.\n"
          ]
        },
        {
          "name": "stdout",
          "output_type": "stream",
          "text": [
            "Время: 4.62 минут\n"
          ]
        },
        {
          "name": "stderr",
          "output_type": "stream",
          "text": [
            "[I 2024-08-22 20:23:51,915] Trial 24 finished with value: 0.8582 and parameters: {'n_estimators': 936, 'max_depth': 27, 'min_samples_split': 14, 'min_samples_leaf': 1, 'criterion': 'log_loss'}. Best is trial 13 with value: 0.8612.\n"
          ]
        },
        {
          "name": "stdout",
          "output_type": "stream",
          "text": [
            "Время: 6.77 минут\n"
          ]
        },
        {
          "name": "stderr",
          "output_type": "stream",
          "text": [
            "[I 2024-08-22 20:25:08,608] Trial 25 finished with value: 0.8449 and parameters: {'n_estimators': 802, 'max_depth': 7, 'min_samples_split': 15, 'min_samples_leaf': 10, 'criterion': 'log_loss'}. Best is trial 13 with value: 0.8612.\n"
          ]
        },
        {
          "name": "stdout",
          "output_type": "stream",
          "text": [
            "Время: 1.28 минут\n"
          ]
        },
        {
          "name": "stderr",
          "output_type": "stream",
          "text": [
            "[I 2024-08-22 20:29:31,689] Trial 26 finished with value: 0.8574 and parameters: {'n_estimators': 658, 'max_depth': 27, 'min_samples_split': 20, 'min_samples_leaf': 3, 'criterion': 'log_loss'}. Best is trial 13 with value: 0.8612.\n"
          ]
        },
        {
          "name": "stdout",
          "output_type": "stream",
          "text": [
            "Время: 4.38 минут\n"
          ]
        },
        {
          "name": "stderr",
          "output_type": "stream",
          "text": [
            "[I 2024-08-22 20:37:20,702] Trial 27 finished with value: 0.8595 and parameters: {'n_estimators': 942, 'max_depth': 30, 'min_samples_split': 11, 'min_samples_leaf': 2, 'criterion': 'log_loss'}. Best is trial 13 with value: 0.8612.\n"
          ]
        },
        {
          "name": "stdout",
          "output_type": "stream",
          "text": [
            "Время: 7.82 минут\n"
          ]
        },
        {
          "name": "stderr",
          "output_type": "stream",
          "text": [
            "[I 2024-08-22 20:41:02,066] Trial 28 finished with value: 0.8536 and parameters: {'n_estimators': 801, 'max_depth': 20, 'min_samples_split': 17, 'min_samples_leaf': 2, 'criterion': 'entropy'}. Best is trial 13 with value: 0.8612.\n"
          ]
        },
        {
          "name": "stdout",
          "output_type": "stream",
          "text": [
            "Время: 3.69 минут\n"
          ]
        },
        {
          "name": "stderr",
          "output_type": "stream",
          "text": [
            "[I 2024-08-22 20:44:00,571] Trial 29 finished with value: 0.8559 and parameters: {'n_estimators': 619, 'max_depth': 26, 'min_samples_split': 11, 'min_samples_leaf': 2, 'criterion': 'gini'}. Best is trial 13 with value: 0.8612.\n"
          ]
        },
        {
          "name": "stdout",
          "output_type": "stream",
          "text": [
            "Время: 2.97 минут\n"
          ]
        },
        {
          "name": "stderr",
          "output_type": "stream",
          "text": [
            "[I 2024-08-22 20:45:57,546] Trial 30 finished with value: 0.8527 and parameters: {'n_estimators': 509, 'max_depth': 25, 'min_samples_split': 19, 'min_samples_leaf': 6, 'criterion': 'entropy'}. Best is trial 13 with value: 0.8612.\n"
          ]
        },
        {
          "name": "stdout",
          "output_type": "stream",
          "text": [
            "Время: 1.95 минут\n"
          ]
        },
        {
          "name": "stderr",
          "output_type": "stream",
          "text": [
            "[I 2024-08-22 20:51:20,491] Trial 31 finished with value: 0.8587 and parameters: {'n_estimators': 943, 'max_depth': 30, 'min_samples_split': 13, 'min_samples_leaf': 1, 'criterion': 'log_loss'}. Best is trial 13 with value: 0.8612.\n"
          ]
        },
        {
          "name": "stdout",
          "output_type": "stream",
          "text": [
            "Время: 5.38 минут\n"
          ]
        },
        {
          "name": "stderr",
          "output_type": "stream",
          "text": [
            "[I 2024-08-22 20:56:16,684] Trial 32 finished with value: 0.8591 and parameters: {'n_estimators': 931, 'max_depth': 28, 'min_samples_split': 11, 'min_samples_leaf': 1, 'criterion': 'log_loss'}. Best is trial 13 with value: 0.8612.\n"
          ]
        },
        {
          "name": "stdout",
          "output_type": "stream",
          "text": [
            "Время: 4.94 минут\n"
          ]
        },
        {
          "name": "stderr",
          "output_type": "stream",
          "text": [
            "[I 2024-08-22 21:01:12,538] Trial 33 finished with value: 0.8562 and parameters: {'n_estimators': 995, 'max_depth': 28, 'min_samples_split': 14, 'min_samples_leaf': 2, 'criterion': 'log_loss'}. Best is trial 13 with value: 0.8612.\n"
          ]
        },
        {
          "name": "stdout",
          "output_type": "stream",
          "text": [
            "Время: 4.93 минут\n"
          ]
        },
        {
          "name": "stderr",
          "output_type": "stream",
          "text": [
            "[I 2024-08-22 21:05:11,276] Trial 34 finished with value: 0.8585 and parameters: {'n_estimators': 822, 'max_depth': 29, 'min_samples_split': 15, 'min_samples_leaf': 3, 'criterion': 'log_loss'}. Best is trial 13 with value: 0.8612.\n"
          ]
        },
        {
          "name": "stdout",
          "output_type": "stream",
          "text": [
            "Время: 3.98 минут\n"
          ]
        },
        {
          "name": "stderr",
          "output_type": "stream",
          "text": [
            "[I 2024-08-22 21:08:35,874] Trial 35 finished with value: 0.8533 and parameters: {'n_estimators': 924, 'max_depth': 26, 'min_samples_split': 12, 'min_samples_leaf': 8, 'criterion': 'gini'}. Best is trial 13 with value: 0.8612.\n"
          ]
        },
        {
          "name": "stdout",
          "output_type": "stream",
          "text": [
            "Время: 3.41 минут\n"
          ]
        },
        {
          "name": "stderr",
          "output_type": "stream",
          "text": [
            "[I 2024-08-22 21:12:24,838] Trial 36 finished with value: 0.86 and parameters: {'n_estimators': 746, 'max_depth': 28, 'min_samples_split': 17, 'min_samples_leaf': 1, 'criterion': 'log_loss'}. Best is trial 13 with value: 0.8612.\n"
          ]
        },
        {
          "name": "stdout",
          "output_type": "stream",
          "text": [
            "Время: 3.82 минут\n"
          ]
        },
        {
          "name": "stderr",
          "output_type": "stream",
          "text": [
            "[I 2024-08-22 21:15:07,874] Trial 37 finished with value: 0.8538 and parameters: {'n_estimators': 763, 'max_depth': 23, 'min_samples_split': 18, 'min_samples_leaf': 4, 'criterion': 'gini'}. Best is trial 13 with value: 0.8612.\n"
          ]
        },
        {
          "name": "stdout",
          "output_type": "stream",
          "text": [
            "Время: 2.72 минут\n"
          ]
        },
        {
          "name": "stderr",
          "output_type": "stream",
          "text": [
            "[I 2024-08-22 21:18:39,666] Trial 38 finished with value: 0.8572 and parameters: {'n_estimators': 701, 'max_depth': 28, 'min_samples_split': 3, 'min_samples_leaf': 2, 'criterion': 'log_loss'}. Best is trial 13 with value: 0.8612.\n"
          ]
        },
        {
          "name": "stdout",
          "output_type": "stream",
          "text": [
            "Время: 3.53 минут\n"
          ]
        },
        {
          "name": "stderr",
          "output_type": "stream",
          "text": [
            "[I 2024-08-22 21:20:12,882] Trial 39 finished with value: 0.852 and parameters: {'n_estimators': 363, 'max_depth': 27, 'min_samples_split': 17, 'min_samples_leaf': 4, 'criterion': 'log_loss'}. Best is trial 13 with value: 0.8612.\n"
          ]
        },
        {
          "name": "stdout",
          "output_type": "stream",
          "text": [
            "Время: 1.55 минут\n"
          ]
        },
        {
          "name": "stderr",
          "output_type": "stream",
          "text": [
            "[I 2024-08-22 21:22:47,013] Trial 40 finished with value: 0.8565 and parameters: {'n_estimators': 541, 'max_depth': 29, 'min_samples_split': 19, 'min_samples_leaf': 3, 'criterion': 'entropy'}. Best is trial 13 with value: 0.8612.\n"
          ]
        },
        {
          "name": "stdout",
          "output_type": "stream",
          "text": [
            "Время: 2.57 минут\n"
          ]
        },
        {
          "name": "stderr",
          "output_type": "stream",
          "text": [
            "[I 2024-08-22 21:27:34,598] Trial 41 finished with value: 0.8596 and parameters: {'n_estimators': 849, 'max_depth': 30, 'min_samples_split': 16, 'min_samples_leaf': 1, 'criterion': 'log_loss'}. Best is trial 13 with value: 0.8612.\n"
          ]
        },
        {
          "name": "stdout",
          "output_type": "stream",
          "text": [
            "Время: 4.79 минут\n"
          ]
        },
        {
          "name": "stderr",
          "output_type": "stream",
          "text": [
            "[I 2024-08-22 21:32:16,288] Trial 42 finished with value: 0.8591 and parameters: {'n_estimators': 848, 'max_depth': 29, 'min_samples_split': 16, 'min_samples_leaf': 1, 'criterion': 'log_loss'}. Best is trial 13 with value: 0.8612.\n"
          ]
        },
        {
          "name": "stdout",
          "output_type": "stream",
          "text": [
            "Время: 4.69 минут\n"
          ]
        },
        {
          "name": "stderr",
          "output_type": "stream",
          "text": [
            "[I 2024-08-22 21:35:53,127] Trial 43 finished with value: 0.8561 and parameters: {'n_estimators': 760, 'max_depth': 26, 'min_samples_split': 9, 'min_samples_leaf': 2, 'criterion': 'log_loss'}. Best is trial 13 with value: 0.8612.\n"
          ]
        },
        {
          "name": "stdout",
          "output_type": "stream",
          "text": [
            "Время: 3.61 минут\n"
          ]
        },
        {
          "name": "stderr",
          "output_type": "stream",
          "text": [
            "[I 2024-08-22 21:37:33,796] Trial 44 finished with value: 0.8504 and parameters: {'n_estimators': 688, 'max_depth': 14, 'min_samples_split': 16, 'min_samples_leaf': 1, 'criterion': 'log_loss'}. Best is trial 13 with value: 0.8612.\n"
          ]
        },
        {
          "name": "stdout",
          "output_type": "stream",
          "text": [
            "Время: 1.68 минут\n"
          ]
        },
        {
          "name": "stderr",
          "output_type": "stream",
          "text": [
            "[I 2024-08-22 21:39:57,007] Trial 45 finished with value: 0.8555 and parameters: {'n_estimators': 406, 'max_depth': 30, 'min_samples_split': 18, 'min_samples_leaf': 1, 'criterion': 'gini'}. Best is trial 13 with value: 0.8612.\n"
          ]
        },
        {
          "name": "stdout",
          "output_type": "stream",
          "text": [
            "Время: 2.39 минут\n"
          ]
        },
        {
          "name": "stderr",
          "output_type": "stream",
          "text": [
            "[I 2024-08-22 21:44:21,135] Trial 46 finished with value: 0.8577 and parameters: {'n_estimators': 877, 'max_depth': 27, 'min_samples_split': 7, 'min_samples_leaf': 2, 'criterion': 'log_loss'}. Best is trial 13 with value: 0.8612.\n"
          ]
        },
        {
          "name": "stdout",
          "output_type": "stream",
          "text": [
            "Время: 4.40 минут\n"
          ]
        },
        {
          "name": "stderr",
          "output_type": "stream",
          "text": [
            "[I 2024-08-22 21:49:23,767] Trial 47 finished with value: 0.8588 and parameters: {'n_estimators': 959, 'max_depth': 28, 'min_samples_split': 15, 'min_samples_leaf': 1, 'criterion': 'log_loss'}. Best is trial 13 with value: 0.8612.\n"
          ]
        },
        {
          "name": "stdout",
          "output_type": "stream",
          "text": [
            "Время: 5.04 минут\n"
          ]
        },
        {
          "name": "stderr",
          "output_type": "stream",
          "text": [
            "[I 2024-08-22 21:51:21,954] Trial 48 finished with value: 0.8566 and parameters: {'n_estimators': 434, 'max_depth': 29, 'min_samples_split': 17, 'min_samples_leaf': 5, 'criterion': 'log_loss'}. Best is trial 13 with value: 0.8612.\n"
          ]
        },
        {
          "name": "stdout",
          "output_type": "stream",
          "text": [
            "Время: 1.97 минут\n"
          ]
        },
        {
          "name": "stderr",
          "output_type": "stream",
          "text": [
            "[I 2024-08-22 21:53:40,939] Trial 49 finished with value: 0.8554 and parameters: {'n_estimators': 598, 'max_depth': 22, 'min_samples_split': 10, 'min_samples_leaf': 2, 'criterion': 'entropy'}. Best is trial 13 with value: 0.8612.\n"
          ]
        },
        {
          "name": "stdout",
          "output_type": "stream",
          "text": [
            "Время: 2.32 минут\n"
          ]
        }
      ],
      "source": [
        "def objective(trial):\n",
        "    start_time = time.time()\n",
        "    # Определяем гиперпараметры, которые будет оптимизировать Optuna\n",
        "    n_estimators = trial.suggest_int('n_estimators', 100, 1000)\n",
        "    max_depth = trial.suggest_int('max_depth', 5, 30)\n",
        "    min_samples_split = trial.suggest_int('min_samples_split', 2, 20)\n",
        "    min_samples_leaf = trial.suggest_int('min_samples_leaf', 1, 10)\n",
        "    criterion = trial.suggest_categorical('criterion', ['gini', 'entropy', 'log_loss'])\n",
        "\n",
        "    # Создаем модель RandomForestClassifier с подобранными параметрами\n",
        "    model = RandomForestClassifier(\n",
        "        n_estimators=n_estimators,\n",
        "        criterion=criterion,\n",
        "        max_depth=max_depth,\n",
        "        min_samples_split=min_samples_split,\n",
        "        min_samples_leaf=min_samples_leaf,\n",
        "        random_state=0\n",
        "    )\n",
        "\n",
        "    # Обучаем модель\n",
        "    model.fit(X_train, y_train)\n",
        "\n",
        "    # Предсказываем и оцениваем точность на тестовой выборке\n",
        "    y_pred = model.predict(X_test)\n",
        "    accuracy = accuracy_score(y_test, y_pred)\n",
        "    end_time = time.time()\n",
        "    print(f'Время: {(end_time - start_time)/60:.2f} минут')\n",
        "\n",
        "    return accuracy\n",
        "\n",
        "# Создаем объект Optuna и запускаем оптимизацию\n",
        "study = optuna.create_study(direction='maximize')\n",
        "study.optimize(objective, n_trials=50)\n",
        "\n"
      ]
    },
    {
      "cell_type": "code",
      "execution_count": null,
      "id": "661abe00-f5a5-4fbd-b0f5-c6ba71174d8d",
      "metadata": {
        "id": "661abe00-f5a5-4fbd-b0f5-c6ba71174d8d",
        "outputId": "4eb68dc3-2edb-4980-bbc1-62d9f202ca0f"
      },
      "outputs": [
        {
          "name": "stdout",
          "output_type": "stream",
          "text": [
            "Best trial:\n",
            "  Accuracy: 0.8612\n",
            "  Best hyperparameters:  {'n_estimators': 983, 'max_depth': 30, 'min_samples_split': 17, 'min_samples_leaf': 1, 'criterion': 'log_loss'}\n",
            "Accuracy(train) = 0.94625\n",
            "Accuracy(test) = 0.8612\n"
          ]
        }
      ],
      "source": [
        "print(\"Best trial:\")\n",
        "trial = study.best_trial\n",
        "\n",
        "print(f\"  Accuracy: {trial.value}\")\n",
        "print(\"  Best hyperparameters: \", trial.params)\n",
        "\n",
        "best_model = RandomForestClassifier(**trial.params, random_state=0)\n",
        "best_model.fit(X_train, y_train)\n",
        "\n",
        "y_train_pred = best_model.predict(X_train)\n",
        "train_accuracy = accuracy_score(y_train, y_train_pred)\n",
        "print(f'Accuracy(train) = {train_accuracy}')\n",
        "\n",
        "y_test_pred = best_model.predict(X_test)\n",
        "test_accuracy = accuracy_score(y_test, y_test_pred)\n",
        "print(f'Accuracy(test) = {test_accuracy}')"
      ]
    },
    {
      "cell_type": "code",
      "execution_count": null,
      "id": "279b1f41-5080-49e3-b884-97a8f063e8cc",
      "metadata": {
        "id": "279b1f41-5080-49e3-b884-97a8f063e8cc"
      },
      "outputs": [],
      "source": []
    },
    {
      "cell_type": "code",
      "execution_count": null,
      "id": "d2edf8a4-22bb-4031-96d9-b8d0559b435f",
      "metadata": {
        "id": "d2edf8a4-22bb-4031-96d9-b8d0559b435f"
      },
      "outputs": [],
      "source": [
        "from sklearn.model_selection import GridSearchCV\n",
        "from sklearn.svm import SVC"
      ]
    },
    {
      "cell_type": "code",
      "execution_count": null,
      "id": "87bb6ef0-d522-412b-a3f5-cf5507672a17",
      "metadata": {
        "id": "87bb6ef0-d522-412b-a3f5-cf5507672a17",
        "outputId": "d9ab3be6-34dc-46ae-c0ee-fa906328fbe8"
      },
      "outputs": [
        {
          "name": "stdout",
          "output_type": "stream",
          "text": [
            "Fitting 3 folds for each of 12 candidates, totalling 36 fits\n",
            "Лучшие параметры: {'C': 10, 'gamma': 'scale', 'kernel': 'rbf'}\n",
            "Наилучший результат: 0.8967999248728781\n",
            "Accuracy: 0.90\n",
            "              precision    recall  f1-score   support\n",
            "\n",
            "           0       0.91      0.89      0.90      4961\n",
            "           1       0.89      0.92      0.91      5039\n",
            "\n",
            "    accuracy                           0.90     10000\n",
            "   macro avg       0.90      0.90      0.90     10000\n",
            "weighted avg       0.90      0.90      0.90     10000\n",
            "\n",
            "[[4416  545]\n",
            " [ 416 4623]]\n",
            "Время: 150.49 минут\n"
          ]
        }
      ],
      "source": [
        "svc = SVC()\n",
        "start_time = time.time()\n",
        "# Определение параметров для поиска\n",
        "param_grid = {\n",
        "    'C': [0.1, 1, 10],\n",
        "    'kernel': ['linear', 'rbf'],\n",
        "    'gamma': ['scale', 'auto']\n",
        "}\n",
        "\n",
        "grid_search = GridSearchCV(estimator=svc, param_grid=param_grid, cv=3, n_jobs=-1, verbose=1)\n",
        "grid_search.fit(X_train, y_train)\n",
        "\n",
        "print(\"Лучшие параметры:\", grid_search.best_params_)\n",
        "print(\"Наилучший результат:\", grid_search.best_score_)\n",
        "\n",
        "best_svc = grid_search.best_estimator_\n",
        "\n",
        "y_pred = best_svc.predict(X_test)\n",
        "\n",
        "accuracy = accuracy_score(y_test, y_pred)\n",
        "print(f\"Accuracy: {accuracy:.2f}\")\n",
        "\n",
        "print(classification_report(y_test, y_pred))\n",
        "print(confusion_matrix(y_test, y_pred))\n",
        "\n",
        "end_time = time.time()\n",
        "print(f'Время: {(end_time - start_time)/60:.2f} минут')"
      ]
    },
    {
      "cell_type": "code",
      "execution_count": null,
      "id": "b2939d59-4671-4d31-b061-bc8e959d7f59",
      "metadata": {
        "id": "b2939d59-4671-4d31-b061-bc8e959d7f59"
      },
      "outputs": [],
      "source": []
    },
    {
      "cell_type": "code",
      "execution_count": null,
      "id": "547c5649-9107-4569-822a-b855a8b01ded",
      "metadata": {
        "id": "547c5649-9107-4569-822a-b855a8b01ded"
      },
      "outputs": [],
      "source": []
    },
    {
      "cell_type": "markdown",
      "id": "d6b02a20-7c5d-4105-a595-2898feefcd42",
      "metadata": {
        "id": "d6b02a20-7c5d-4105-a595-2898feefcd42"
      },
      "source": [
        "### CountVectorizer"
      ]
    },
    {
      "cell_type": "code",
      "execution_count": null,
      "id": "abeca70b-612a-4266-aa8e-861cdd665afb",
      "metadata": {
        "id": "abeca70b-612a-4266-aa8e-861cdd665afb"
      },
      "outputs": [],
      "source": [
        "vectorizer = CountVectorizer()\n",
        "X = vectorizer.fit_transform(preprocessed_texts)"
      ]
    },
    {
      "cell_type": "code",
      "execution_count": null,
      "id": "9aa9bc2c-4d05-48ed-93a5-14446012af77",
      "metadata": {
        "id": "9aa9bc2c-4d05-48ed-93a5-14446012af77"
      },
      "outputs": [],
      "source": [
        "X_train, X_test, y_train, y_test = train_test_split(X, data['sentiment'], test_size=0.2, random_state=42)"
      ]
    },
    {
      "cell_type": "code",
      "execution_count": null,
      "id": "a1ca6da5-0092-45b5-a386-d18bd527abcd",
      "metadata": {
        "id": "a1ca6da5-0092-45b5-a386-d18bd527abcd",
        "outputId": "99beeb27-c43c-4465-ee45-656a237327ce"
      },
      "outputs": [
        {
          "name": "stdout",
          "output_type": "stream",
          "text": [
            "Accuracy: 0.88\n",
            "              precision    recall  f1-score   support\n",
            "\n",
            "           0       0.89      0.88      0.88      4961\n",
            "           1       0.88      0.89      0.89      5039\n",
            "\n",
            "    accuracy                           0.88     10000\n",
            "   macro avg       0.88      0.88      0.88     10000\n",
            "weighted avg       0.88      0.88      0.88     10000\n",
            "\n",
            "[[4359  602]\n",
            " [ 557 4482]]\n"
          ]
        }
      ],
      "source": [
        "# Обучение модели логистической регрессии\n",
        "clf = LogisticRegression(max_iter=100)\n",
        "clf.fit(X_train, y_train)\n",
        "\n",
        "\n",
        "\n",
        "# Предсказание меток для тестовых данных\n",
        "y_pred = clf.predict(X_test)\n",
        "\n",
        "# Оценка точности модели\n",
        "accuracy = accuracy_score(y_test, y_pred)\n",
        "print(f\"Accuracy: {accuracy:.2f}\")\n",
        "\n",
        "# Вывод отчета о классификации и матрицы ошибок\n",
        "print(classification_report(y_test, y_pred))\n",
        "print(confusion_matrix(y_test, y_pred))\n"
      ]
    },
    {
      "cell_type": "code",
      "execution_count": null,
      "id": "97e63d7d-62b7-4e49-a7ab-4429e8bcf6e0",
      "metadata": {
        "id": "97e63d7d-62b7-4e49-a7ab-4429e8bcf6e0",
        "outputId": "3cc9e2f6-84bc-4e3d-e3fb-658def603e36"
      },
      "outputs": [
        {
          "name": "stdout",
          "output_type": "stream",
          "text": [
            "Accuracy(train) = 0.911275\n",
            "Accuracy(test) = 0.8641\n"
          ]
        }
      ],
      "source": [
        "model = RandomForestClassifier(n_estimators=1000,\n",
        "                              criterion='log_loss',\n",
        "                              max_depth=20,\n",
        "                              min_samples_split=10,\n",
        "                              min_samples_leaf=1,\n",
        "                              random_state = 0)\n",
        "\n",
        "\n",
        "model.fit(X_train, y_train)\n",
        "\n",
        "y_pred = model.predict(X_train)\n",
        "accuracy = accuracy_score(y_train, y_pred)\n",
        "print(f'Accuracy(train) = {accuracy}')\n",
        "\n",
        "y_pred = model.predict(X_test)\n",
        "accuracy = accuracy_score(y_test, y_pred)\n",
        "print(f'Accuracy(test) = {accuracy}')"
      ]
    },
    {
      "cell_type": "code",
      "execution_count": null,
      "id": "aa8617b2-27eb-4a35-b45b-087da4954fb1",
      "metadata": {
        "scrolled": true,
        "id": "aa8617b2-27eb-4a35-b45b-087da4954fb1",
        "outputId": "cf8f5eef-c30f-41cc-86f9-12445146d0ea"
      },
      "outputs": [
        {
          "name": "stderr",
          "output_type": "stream",
          "text": [
            "[I 2024-08-23 11:23:26,429] A new study created in memory with name: no-name-4e09598f-3d9c-4c13-b3b7-312d4af330b4\n",
            "[I 2024-08-23 11:26:16,477] Trial 0 finished with value: 0.8613 and parameters: {'n_estimators': 897, 'max_depth': 19, 'min_samples_split': 20, 'min_samples_leaf': 1, 'criterion': 'gini'}. Best is trial 0 with value: 0.8613.\n"
          ]
        },
        {
          "name": "stdout",
          "output_type": "stream",
          "text": [
            "Время: 2.83 минут\n"
          ]
        },
        {
          "name": "stderr",
          "output_type": "stream",
          "text": [
            "[I 2024-08-23 11:27:57,995] Trial 1 finished with value: 0.8582 and parameters: {'n_estimators': 644, 'max_depth': 18, 'min_samples_split': 17, 'min_samples_leaf': 7, 'criterion': 'log_loss'}. Best is trial 0 with value: 0.8613.\n"
          ]
        },
        {
          "name": "stdout",
          "output_type": "stream",
          "text": [
            "Время: 1.69 минут\n"
          ]
        },
        {
          "name": "stderr",
          "output_type": "stream",
          "text": [
            "[I 2024-08-23 11:29:51,229] Trial 2 finished with value: 0.8604 and parameters: {'n_estimators': 578, 'max_depth': 24, 'min_samples_split': 4, 'min_samples_leaf': 9, 'criterion': 'gini'}. Best is trial 0 with value: 0.8613.\n"
          ]
        },
        {
          "name": "stdout",
          "output_type": "stream",
          "text": [
            "Время: 1.89 минут\n"
          ]
        },
        {
          "name": "stderr",
          "output_type": "stream",
          "text": [
            "[I 2024-08-23 11:30:55,118] Trial 3 finished with value: 0.8575 and parameters: {'n_estimators': 288, 'max_depth': 26, 'min_samples_split': 18, 'min_samples_leaf': 6, 'criterion': 'gini'}. Best is trial 0 with value: 0.8613.\n"
          ]
        },
        {
          "name": "stdout",
          "output_type": "stream",
          "text": [
            "Время: 1.06 минут\n"
          ]
        },
        {
          "name": "stderr",
          "output_type": "stream",
          "text": [
            "[I 2024-08-23 11:31:25,692] Trial 4 finished with value: 0.8485 and parameters: {'n_estimators': 441, 'max_depth': 8, 'min_samples_split': 7, 'min_samples_leaf': 3, 'criterion': 'log_loss'}. Best is trial 0 with value: 0.8613.\n"
          ]
        },
        {
          "name": "stdout",
          "output_type": "stream",
          "text": [
            "Время: 0.51 минут\n"
          ]
        },
        {
          "name": "stderr",
          "output_type": "stream",
          "text": [
            "[I 2024-08-23 11:31:59,690] Trial 5 finished with value: 0.85 and parameters: {'n_estimators': 445, 'max_depth': 9, 'min_samples_split': 3, 'min_samples_leaf': 7, 'criterion': 'log_loss'}. Best is trial 0 with value: 0.8613.\n"
          ]
        },
        {
          "name": "stdout",
          "output_type": "stream",
          "text": [
            "Время: 0.57 минут\n"
          ]
        },
        {
          "name": "stderr",
          "output_type": "stream",
          "text": [
            "[I 2024-08-23 11:32:46,748] Trial 6 finished with value: 0.8559 and parameters: {'n_estimators': 288, 'max_depth': 19, 'min_samples_split': 7, 'min_samples_leaf': 7, 'criterion': 'gini'}. Best is trial 0 with value: 0.8613.\n"
          ]
        },
        {
          "name": "stdout",
          "output_type": "stream",
          "text": [
            "Время: 0.78 минут\n"
          ]
        },
        {
          "name": "stderr",
          "output_type": "stream",
          "text": [
            "[I 2024-08-23 11:33:17,174] Trial 7 finished with value: 0.8553 and parameters: {'n_estimators': 158, 'max_depth': 21, 'min_samples_split': 20, 'min_samples_leaf': 3, 'criterion': 'gini'}. Best is trial 0 with value: 0.8613.\n"
          ]
        },
        {
          "name": "stdout",
          "output_type": "stream",
          "text": [
            "Время: 0.51 минут\n"
          ]
        },
        {
          "name": "stderr",
          "output_type": "stream",
          "text": [
            "[I 2024-08-23 11:34:15,601] Trial 8 finished with value: 0.8533 and parameters: {'n_estimators': 980, 'max_depth': 7, 'min_samples_split': 2, 'min_samples_leaf': 10, 'criterion': 'log_loss'}. Best is trial 0 with value: 0.8613.\n"
          ]
        },
        {
          "name": "stdout",
          "output_type": "stream",
          "text": [
            "Время: 0.97 минут\n"
          ]
        },
        {
          "name": "stderr",
          "output_type": "stream",
          "text": [
            "[I 2024-08-23 11:34:53,999] Trial 9 finished with value: 0.8559 and parameters: {'n_estimators': 401, 'max_depth': 11, 'min_samples_split': 10, 'min_samples_leaf': 3, 'criterion': 'log_loss'}. Best is trial 0 with value: 0.8613.\n"
          ]
        },
        {
          "name": "stdout",
          "output_type": "stream",
          "text": [
            "Время: 0.64 минут\n"
          ]
        },
        {
          "name": "stderr",
          "output_type": "stream",
          "text": [
            "[I 2024-08-23 11:40:11,467] Trial 10 finished with value: 0.8681 and parameters: {'n_estimators': 990, 'max_depth': 30, 'min_samples_split': 14, 'min_samples_leaf': 1, 'criterion': 'entropy'}. Best is trial 10 with value: 0.8681.\n"
          ]
        },
        {
          "name": "stdout",
          "output_type": "stream",
          "text": [
            "Время: 5.29 минут\n"
          ]
        },
        {
          "name": "stderr",
          "output_type": "stream",
          "text": [
            "[I 2024-08-23 11:45:27,549] Trial 11 finished with value: 0.8683 and parameters: {'n_estimators': 985, 'max_depth': 30, 'min_samples_split': 14, 'min_samples_leaf': 1, 'criterion': 'entropy'}. Best is trial 11 with value: 0.8683.\n"
          ]
        },
        {
          "name": "stdout",
          "output_type": "stream",
          "text": [
            "Время: 5.27 минут\n"
          ]
        },
        {
          "name": "stderr",
          "output_type": "stream",
          "text": [
            "[I 2024-08-23 11:49:38,021] Trial 12 finished with value: 0.8674 and parameters: {'n_estimators': 777, 'max_depth': 30, 'min_samples_split': 14, 'min_samples_leaf': 1, 'criterion': 'entropy'}. Best is trial 11 with value: 0.8683.\n"
          ]
        },
        {
          "name": "stdout",
          "output_type": "stream",
          "text": [
            "Время: 4.17 минут\n"
          ]
        },
        {
          "name": "stderr",
          "output_type": "stream",
          "text": [
            "[I 2024-08-23 11:53:28,704] Trial 13 finished with value: 0.8653 and parameters: {'n_estimators': 791, 'max_depth': 29, 'min_samples_split': 13, 'min_samples_leaf': 2, 'criterion': 'entropy'}. Best is trial 11 with value: 0.8683.\n"
          ]
        },
        {
          "name": "stdout",
          "output_type": "stream",
          "text": [
            "Время: 3.84 минут\n"
          ]
        },
        {
          "name": "stderr",
          "output_type": "stream",
          "text": [
            "[I 2024-08-23 11:55:30,645] Trial 14 finished with value: 0.8575 and parameters: {'n_estimators': 997, 'max_depth': 14, 'min_samples_split': 15, 'min_samples_leaf': 4, 'criterion': 'entropy'}. Best is trial 11 with value: 0.8683.\n"
          ]
        },
        {
          "name": "stdout",
          "output_type": "stream",
          "text": [
            "Время: 2.03 минут\n"
          ]
        }
      ],
      "source": [
        "def objective(trial):\n",
        "    start_time = time.time()\n",
        "    # Определяем гиперпараметры, которые будет оптимизировать Optuna\n",
        "    n_estimators = trial.suggest_int('n_estimators', 100, 1000)\n",
        "    max_depth = trial.suggest_int('max_depth', 5, 30)\n",
        "    min_samples_split = trial.suggest_int('min_samples_split', 2, 20)\n",
        "    min_samples_leaf = trial.suggest_int('min_samples_leaf', 1, 10)\n",
        "    criterion = trial.suggest_categorical('criterion', ['gini', 'entropy', 'log_loss'])\n",
        "\n",
        "    # Создаем модель RandomForestClassifier с подобранными параметрами\n",
        "    model = RandomForestClassifier(\n",
        "        n_estimators=n_estimators,\n",
        "        criterion=criterion,\n",
        "        max_depth=max_depth,\n",
        "        min_samples_split=min_samples_split,\n",
        "        min_samples_leaf=min_samples_leaf,\n",
        "        random_state=0\n",
        "    )\n",
        "\n",
        "    # Обучаем модель\n",
        "    model.fit(X_train, y_train)\n",
        "\n",
        "    # Предсказываем и оцениваем точность на тестовой выборке\n",
        "    y_pred = model.predict(X_test)\n",
        "    accuracy = accuracy_score(y_test, y_pred)\n",
        "    end_time = time.time()\n",
        "    print(f'Время: {(end_time - start_time)/60:.2f} минут')\n",
        "\n",
        "    return accuracy\n",
        "\n",
        "# Создаем объект Optuna и запускаем оптимизацию\n",
        "study = optuna.create_study(direction='maximize')\n",
        "study.optimize(objective, n_trials=15)\n",
        "\n"
      ]
    },
    {
      "cell_type": "code",
      "execution_count": null,
      "id": "5b1a38e5-24c4-41a4-ba88-0491996d2b19",
      "metadata": {
        "id": "5b1a38e5-24c4-41a4-ba88-0491996d2b19",
        "outputId": "9ec65f37-46f5-42ff-939f-b6bf6dbfcfc3"
      },
      "outputs": [
        {
          "name": "stdout",
          "output_type": "stream",
          "text": [
            "Best trial:\n",
            "  Accuracy: 0.8683\n",
            "  Best hyperparameters:  {'n_estimators': 985, 'max_depth': 30, 'min_samples_split': 14, 'min_samples_leaf': 1, 'criterion': 'entropy'}\n",
            "Accuracy(train) = 0.9367\n",
            "Accuracy(test) = 0.8683\n"
          ]
        }
      ],
      "source": [
        "print(\"Best trial:\")\n",
        "trial = study.best_trial\n",
        "\n",
        "print(f\"  Accuracy: {trial.value}\")\n",
        "print(\"  Best hyperparameters: \", trial.params)\n",
        "\n",
        "best_model = RandomForestClassifier(**trial.params, random_state=0)\n",
        "best_model.fit(X_train, y_train)\n",
        "\n",
        "y_train_pred = best_model.predict(X_train)\n",
        "train_accuracy = accuracy_score(y_train, y_train_pred)\n",
        "print(f'Accuracy(train) = {train_accuracy}')\n",
        "\n",
        "y_test_pred = best_model.predict(X_test)\n",
        "test_accuracy = accuracy_score(y_test, y_test_pred)\n",
        "print(f'Accuracy(test) = {test_accuracy}')"
      ]
    },
    {
      "cell_type": "code",
      "execution_count": null,
      "id": "9c6c5e51-5adc-40b8-bef4-67532811ad36",
      "metadata": {
        "id": "9c6c5e51-5adc-40b8-bef4-67532811ad36"
      },
      "outputs": [],
      "source": []
    },
    {
      "cell_type": "code",
      "execution_count": null,
      "id": "28eece7f-14ef-4847-b662-392db6e69504",
      "metadata": {
        "id": "28eece7f-14ef-4847-b662-392db6e69504"
      },
      "outputs": [],
      "source": []
    },
    {
      "cell_type": "code",
      "execution_count": null,
      "id": "204e38f2-2f1a-414e-9eb5-37187a2d1045",
      "metadata": {
        "id": "204e38f2-2f1a-414e-9eb5-37187a2d1045"
      },
      "outputs": [],
      "source": []
    }
  ],
  "metadata": {
    "kernelspec": {
      "display_name": "Python 3 (ipykernel)",
      "language": "python",
      "name": "python3"
    },
    "language_info": {
      "codemirror_mode": {
        "name": "ipython",
        "version": 3
      },
      "file_extension": ".py",
      "mimetype": "text/x-python",
      "name": "python",
      "nbconvert_exporter": "python",
      "pygments_lexer": "ipython3",
      "version": "3.10.11"
    },
    "colab": {
      "provenance": []
    }
  },
  "nbformat": 4,
  "nbformat_minor": 5
}