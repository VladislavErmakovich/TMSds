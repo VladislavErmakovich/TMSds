{
 "cells": [
  {
   "cell_type": "code",
   "execution_count": 6,
   "id": "ac535d08",
   "metadata": {},
   "outputs": [
    {
     "name": "stdout",
     "output_type": "stream",
     "text": [
      "98765 456 0 123 1 53\n"
     ]
    },
    {
     "data": {
      "text/plain": [
       "(0, 98765)"
      ]
     },
     "execution_count": 6,
     "metadata": {},
     "output_type": "execute_result"
    }
   ],
   "source": [
    "\"\"\"\n",
    "\n",
    "В этом небольшом задании вам дается строка чисел, разделенных пробелами,\n",
    "и вы должны вернуть наибольшее и наименьшее число.\n",
    "\n",
    "\"\"\"\n",
    "\n",
    "def max_min(value: str) -> int:\n",
    "    \"\"\"\n",
    "    :param first: value input string value\n",
    "    :return: min and max number from value\n",
    "    \"\"\"\n",
    "    list_values = value.split()\n",
    "    new_list = list(map(int,list_values))\n",
    "    min_v = new_list[0]\n",
    "    max_v = new_list[0]\n",
    "    for i in range(1, len(new_list)):\n",
    "        if new_list[i] > max_v:\n",
    "            max_v = new_list[i]\n",
    "        elif new_list[i] < min_v:\n",
    "            min_v = new_list[i]\n",
    "    return min_v, max_v\n",
    "    \n",
    "value = \"98765 456 0 123 1 53\"\n",
    "print(value)\n",
    "max_min(value)\n"
   ]
  },
  {
   "cell_type": "code",
   "execution_count": 7,
   "id": "436fa9b4",
   "metadata": {},
   "outputs": [
    {
     "name": "stdout",
     "output_type": "stream",
     "text": [
      "Введите PIN-код: sdfghj\n"
     ]
    },
    {
     "data": {
      "text/plain": [
       "False"
      ]
     },
     "execution_count": 7,
     "metadata": {},
     "output_type": "execute_result"
    }
   ],
   "source": [
    "\"\"\"\n",
    "\n",
    "Банкоматы допускают использование 4- или 6-значных PIN-кодов, а PIN-коды не\n",
    "могут содержать ничего, кроме ровно 4 или ровно 6 цифр. Если функции\n",
    "передана действительная строка PIN-кода, return true, иначе return false.\n",
    "\n",
    "\"\"\"\n",
    "\n",
    "def pin_code(pin: str) -> True or False:\n",
    "    \"\"\"\n",
    "    :param first: pin input string value\n",
    "    :return: True or False of operation\n",
    "    \"\"\"\n",
    "    try:\n",
    "        if int(pin):\n",
    "            if len(pin) ==4 or len(pin)==6:\n",
    "                return True\n",
    "            else:\n",
    "                return False\n",
    "    except:\n",
    "        return False\n",
    "    \n",
    "pin = input(\"Введите PIN-код: \")\n",
    "pin_code(pin)\n"
   ]
  },
  {
   "cell_type": "code",
   "execution_count": 9,
   "id": "fcd5642e",
   "metadata": {},
   "outputs": [
    {
     "name": "stdout",
     "output_type": "stream",
     "text": [
      "[12.0, 16.0, 25, 144, 32]\n"
     ]
    },
    {
     "data": {
      "text/plain": [
       "[16.0, 25, 144]"
      ]
     },
     "execution_count": 9,
     "metadata": {},
     "output_type": "execute_result"
    }
   ],
   "source": [
    "\"\"\"\n",
    "\n",
    "Учитывая целое число, определите, является ли оно квадратным : В\n",
    "математике квадратное число или идеальный квадрат — это целое число,\n",
    "которое является квадратом целого числа; другими словами, это\n",
    "произведение некоторого целого числа само на себя. На вход список, на\n",
    "выходе список чисел\n",
    "  \n",
    "\"\"\"\n",
    "\n",
    "def number_square(list_num: list) -> list:\n",
    "    \"\"\"\n",
    "    :param first: list_num input list value\n",
    "    :return: list square numbers\n",
    "    \"\"\"\n",
    "    result_list = list(filter(lambda x:(int(x**0.5))**2 == x, list_num))\n",
    "    return result_list\n",
    "\n",
    "list_num =[12.0, 16.0, 25, 144, 32]\n",
    "print(list_num)\n",
    "number_square(list_num)\n"
   ]
  },
  {
   "cell_type": "code",
   "execution_count": 12,
   "id": "88099165",
   "metadata": {},
   "outputs": [
    {
     "name": "stdout",
     "output_type": "stream",
     "text": [
      "eeeewertyyyyunnnmnbvcffff\n"
     ]
    },
    {
     "data": {
      "text/plain": [
       "'ewertyunmnbvcf'"
      ]
     },
     "execution_count": 12,
     "metadata": {},
     "output_type": "execute_result"
    }
   ],
   "source": [
    "\"\"\"\n",
    "\n",
    "Реализуйте функцию unique_in_order, которая принимает в качестве аргумента\n",
    "последовательность и возвращает список элементов без каких-либо элементов\n",
    "с одинаковым значением рядом друг с другом и сохраняет исходный порядок\n",
    "элементов.\n",
    "\n",
    "\"\"\"\n",
    "\n",
    "from functools import reduce\n",
    "\n",
    "def unique_in_order(sequence: str) -> str:\n",
    "    \"\"\"\n",
    "    :param first: sequence input str value\n",
    "    :return: str without repetitions in a row\n",
    "    \"\"\"\n",
    "    list_value = list(sequence)\n",
    "    new_list = []\n",
    "    for i in range(len(list_value)):\n",
    "        if i==0 or list_value[i] != list_value[i-1]:\n",
    "            new_list.append(list_value[i])\n",
    "    result_sequence = reduce(lambda x, y: x+y, new_list, \"\") \n",
    "    return result_sequence\n",
    "\n",
    "sequence = \"eeeewertyyyyunnnmnbvcffff\"\n",
    "print(sequence)\n",
    "unique_in_order(sequence)\n"
   ]
  },
  {
   "cell_type": "code",
   "execution_count": 15,
   "id": "6ecb85b0",
   "metadata": {},
   "outputs": [
    {
     "name": "stdout",
     "output_type": "stream",
     "text": [
      "Выпал снег, значит наступила зима.\n"
     ]
    },
    {
     "data": {
      "text/plain": [
       "['снег', 'зима']"
      ]
     },
     "execution_count": 15,
     "metadata": {},
     "output_type": "execute_result"
    }
   ],
   "source": [
    "\"\"\"\n",
    "\n",
    "Просто, учитывая строку слов, верните длину самого короткого слова (слов).\n",
    "Строка никогда не будет пустой, и вам не нужно учитывать разные типы данных\n",
    "\n",
    "\"\"\"\n",
    "\n",
    "import re\n",
    "\n",
    "def short_words(text: str) -> list:\n",
    "    \"\"\"\n",
    "    :param first: text input str value\n",
    "    :return: list with min words\n",
    "    \"\"\"\n",
    "    new_text = re.sub(r'[.,!?]','',text)\n",
    "    new_list = new_text.split()\n",
    "    min_word = new_list[0]\n",
    "    \n",
    "    for i in range(1, len(new_list)):\n",
    "        if len(min_word) > len(new_list[i]):\n",
    "            min_word = new_list[i] \n",
    "    \n",
    "    res_list = list(filter(lambda x: len(x) == len(min_word), new_list))\n",
    "    return res_list\n",
    "\n",
    "text = \"Выпал снег, значит наступила зима.\"\n",
    "print(text)\n",
    "short_words(text)\n"
   ]
  },
  {
   "cell_type": "code",
   "execution_count": 192,
   "id": "5b8259e3",
   "metadata": {
    "scrolled": true
   },
   "outputs": [
    {
     "name": "stdout",
     "output_type": "stream",
     "text": [
      "n= -1351\n",
      "Введите заново...\n",
      "n= 123456\n"
     ]
    },
    {
     "data": {
      "text/plain": [
       "21"
      ]
     },
     "execution_count": 192,
     "metadata": {},
     "output_type": "execute_result"
    }
   ],
   "source": [
    "\"\"\"\n",
    "\n",
    "Цифровой корень — это рекурсивная сумма всех цифр числа. Учитывая n,\n",
    "возьмите сумму цифр n. Если это значение имеет более одной цифры,\n",
    "продолжайте уменьшать таким образом, пока не получите однозначное число.\n",
    "Входные данные будут неотрицательным целым числом.\n",
    "\n",
    "\"\"\"\n",
    "\n",
    "def digital_root(n: int) -> int:\n",
    "    \"\"\"\n",
    "    :param first: n input int value\n",
    "    :return: the sum of the digits of this number\n",
    "    \"\"\"\n",
    "    if n < 10:\n",
    "        return n\n",
    "    else:\n",
    "        return n % 10 + digital_root(n//10)\n",
    "        \n",
    "while True:\n",
    "    n = int(input(\"n= \"))\n",
    "    if n >=0 :\n",
    "        break\n",
    "    else:\n",
    "        print(\"Введите заново...\")\n",
    "digital_root(n)\n"
   ]
  },
  {
   "cell_type": "code",
   "execution_count": 18,
   "id": "376f4054",
   "metadata": {},
   "outputs": [
    {
     "data": {
      "text/plain": [
       "'ту'"
      ]
     },
     "execution_count": 18,
     "metadata": {},
     "output_type": "execute_result"
    }
   ],
   "source": [
    "\"\"\"\n",
    "\n",
    "Вам будет предоставлено слово. Ваша задача — вернуть средний символ\n",
    "слова. Если длина слова нечетная, верните средний символ. Если длина слова\n",
    "четная, верните 2 средних символа\n",
    "\n",
    "\"\"\"\n",
    "\n",
    "def middle_element(word: str) -> str:\n",
    "    \"\"\"\n",
    "    :param first: word input str value\n",
    "    :return: middle elemet or elements\n",
    "    \"\"\"\n",
    "    if len(word) % 2 == 0:\n",
    "        middle_elements = word[len(word)//2 - 1] + word[len(word)//2]\n",
    "        return middle_elements\n",
    "    else:\n",
    "        return word[len(word)//2]\n",
    "        \n",
    "word_1 = \"стул\"\n",
    "word_2 = \"парни\"\n",
    "middle_element(word_1)\n",
    "#middle_element(word_2)\n"
   ]
  },
  {
   "cell_type": "code",
   "execution_count": 201,
   "id": "a3139d4a",
   "metadata": {},
   "outputs": [
    {
     "data": {
      "text/plain": [
       "False"
      ]
     },
     "execution_count": 201,
     "metadata": {},
     "output_type": "execute_result"
    }
   ],
   "source": [
    "\"\"\"\n",
    "\n",
    "Определите функцию, которая принимает целочисленный аргумент и\n",
    "возвращает логическое значение trueили false в зависимости от того, является\n",
    "ли целое число простым.\n",
    "\n",
    "\"\"\"\n",
    "\n",
    "def simple_num(num: int) -> True or False:\n",
    "    \"\"\"\n",
    "    :param first: num input int value\n",
    "    :return: True or False if it is simple num\n",
    "    \"\"\"\n",
    "    for i in range(2, num):\n",
    "        if num % i == 0:\n",
    "            return False\n",
    "    return True\n",
    "\n",
    "num = 505\n",
    "simple_num(num)\n"
   ]
  },
  {
   "cell_type": "code",
   "execution_count": 4,
   "id": "398e67cd",
   "metadata": {},
   "outputs": [
    {
     "name": "stdout",
     "output_type": "stream",
     "text": [
      "Введите количество элементов: 5\n",
      "Значение 1 = -5\n",
      "Значение 2 = -5\n",
      "Значение 3 = -6\n",
      "Значение 4 = -9\n",
      "Значение 5 = -1\n",
      "Сумма элементов списка четная?\n",
      "-26\n"
     ]
    },
    {
     "data": {
      "text/plain": [
       "True"
      ]
     },
     "execution_count": 4,
     "metadata": {},
     "output_type": "execute_result"
    }
   ],
   "source": [
    "\"\"\"\n",
    "\n",
    "Учитывая список целых чисел, определите, является ли сумма его элементов\n",
    "нечетной или четной.\n",
    "\n",
    "\"\"\"\n",
    "\n",
    "from functools import reduce\n",
    "\n",
    "def sum_elements_list(list_values: list) -> True or False:\n",
    "    \"\"\"\n",
    "    :param first: list_values input list value\n",
    "    :return: True or False if sum if even\n",
    "    \"\"\"\n",
    "    result = reduce(lambda x, y: x + y, list_values, 0)\n",
    "    if result % 2 == 0:\n",
    "        print(result)\n",
    "        return True\n",
    "    else:\n",
    "        print(result)\n",
    "        return False\n",
    "\n",
    "def input_values(list_values: list) -> None:\n",
    "    \"\"\"\n",
    "    :param first: list_values input list value\n",
    "    :return: None\n",
    "    \"\"\"\n",
    "    for i in range(0, n):\n",
    "        while True:\n",
    "            try:\n",
    "                val = int(input(f\"Значение {i+1} = \"))\n",
    "                if val>=0 or val<0:\n",
    "                    list_values.append(int(val))\n",
    "                    break\n",
    "                else:\n",
    "                    print(\"Введите заново\")\n",
    "            except:\n",
    "                print(\"Введите заново\")\n",
    "                \n",
    "n = int(input(\"Введите количество элементов: \"))\n",
    "list_values =[]\n",
    "input_values(list_values)\n",
    "print(\"Сумма элементов списка четная?\")\n",
    "sum_elements_list(list_values)\n"
   ]
  },
  {
   "cell_type": "code",
   "execution_count": 3,
   "id": "663611ac",
   "metadata": {},
   "outputs": [
    {
     "name": "stdout",
     "output_type": "stream",
     "text": [
      "Введите размерность квадратной матрицы NxN: 3\n",
      "[5, 3, 5]\n",
      "[4, 5, 8]\n",
      "[9, 2, 7]\n",
      "\n",
      "Значения матрицы в диапозоне песочных часов\n",
      "[5, 3, 5, 5, 9, 2, 7]\n"
     ]
    },
    {
     "data": {
      "text/plain": [
       "36"
      ]
     },
     "execution_count": 3,
     "metadata": {},
     "output_type": "execute_result"
    }
   ],
   "source": [
    "import random\n",
    "from functools import reduce\n",
    "\n",
    "def filling_mas(mas_2x2: list,n: int) -> None:\n",
    "    \"\"\"\n",
    "    :param first: mas_2x2 input list value\n",
    "    :return: None\n",
    "    \"\"\"\n",
    "    for i in range(n):\n",
    "         mas_2x2[i] = list(map(lambda x: x + random.randint(1, 9), mas_2x2[i]))\n",
    "        \n",
    "def output_mas(mas_2x2: list,n: int) -> None:\n",
    "    \"\"\"\n",
    "    :param first: mas_2x2 input list value\n",
    "    :param second: n input int value\n",
    "    :return: None\n",
    "    \"\"\"\n",
    "    for i in range(n):\n",
    "        print(mas_2x2[i])\n",
    "    \n",
    "def hourglass(mas_2x2: list,n: int)-> int:\n",
    "    \"\"\"\n",
    "    :param first: mas_2x2 input list value\n",
    "    :param second: n input int value\n",
    "    :return: result of math operetion\n",
    "    \"\"\"\n",
    "    hourglass_lst = []\n",
    "    left = 0\n",
    "    right = n\n",
    "    \n",
    "    for i in range(n):\n",
    "        if left <= right:\n",
    "            for j in range(left, right):\n",
    "                hourglass_lst.append(mas_2x2[i][j])\n",
    "        else:\n",
    "            for j in range(right, left):\n",
    "                hourglass_lst.append(mas_2x2[i][j])\n",
    "        left +=1\n",
    "        right -=1\n",
    "        if abs(right - left) <= 1:\n",
    "            left += 1\n",
    "            right -= 1\n",
    "    \n",
    "    print(f\"\\nЗначения матрицы в диапозоне песочных часов\\n{hourglass_lst}\")\n",
    "    result = reduce(lambda x, y: x+y,hourglass_lst, 0)\n",
    "    return result\n",
    "    \n",
    "n = int(input(\"Введите размерность квадратной матрицы NxN: \")) \n",
    "mas_2x2 = [[0 for j in range(n)] for i in range(n)]\n",
    "\n",
    "filling_mas(mas_2x2, n)\n",
    "output_mas(mas_2x2,n)\n",
    "hourglass(mas_2x2,n)\n"
   ]
  }
 ],
 "metadata": {
  "kernelspec": {
   "display_name": "Python 3 (ipykernel)",
   "language": "python",
   "name": "python3"
  },
  "language_info": {
   "codemirror_mode": {
    "name": "ipython",
    "version": 3
   },
   "file_extension": ".py",
   "mimetype": "text/x-python",
   "name": "python",
   "nbconvert_exporter": "python",
   "pygments_lexer": "ipython3",
   "version": "3.11.5"
  }
 },
 "nbformat": 4,
 "nbformat_minor": 5
}
