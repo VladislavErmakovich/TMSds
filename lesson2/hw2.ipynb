{
 "cells": [
  {
   "cell_type": "code",
   "execution_count": 1,
   "id": "99b0a08f",
   "metadata": {
    "scrolled": true
   },
   "outputs": [
    {
     "name": "stdout",
     "output_type": "stream",
     "text": [
      "hello world\n"
     ]
    }
   ],
   "source": [
    "print(\"hello world\")"
   ]
  },
  {
   "cell_type": "code",
   "execution_count": 31,
   "id": "693749a4",
   "metadata": {},
   "outputs": [
    {
     "name": "stdout",
     "output_type": "stream",
     "text": [
      "70\n",
      "59.0\n",
      "Результат сложения: 45 + 56.0 = 101.0\n"
     ]
    }
   ],
   "source": [
    "var_1: int = 25\n",
    "var_2: int = 45\n",
    "    \n",
    "var_3: float = 34.0\n",
    "var_4: float = 56.0\n",
    "    \n",
    "print(var_1 + var_2)\n",
    "print(var_3+var_1)\n",
    "var_sum: float = var_2 + var_4\n",
    "print(f\"Результат сложения: {var_2} + {var_4} = {var_sum}\")"
   ]
  },
  {
   "cell_type": "code",
   "execution_count": 32,
   "id": "1c6c65d3",
   "metadata": {},
   "outputs": [
    {
     "name": "stdout",
     "output_type": "stream",
     "text": [
      "Римская Империя\n",
      "Римская Империя\n"
     ]
    }
   ],
   "source": [
    "word_1: str = \"Римская\"\n",
    "word_2: str = \"Империя\"\n",
    "print(f\"{word_1} {word_2}\")\n",
    "word_sum = word_1 + \" \" + word_2\n",
    "print(word_sum)"
   ]
  },
  {
   "cell_type": "code",
   "execution_count": 43,
   "id": "09b3b1a9",
   "metadata": {},
   "outputs": [
    {
     "name": "stdout",
     "output_type": "stream",
     "text": [
      "[1, 2, 3]\n",
      "[1, 2, 3, 10]\n",
      "{'F': 1, 'G': 1}\n",
      "{'F': 1, 'G': 1}\n"
     ]
    },
    {
     "data": {
      "text/plain": [
       "[1, 2, 3, 10]"
      ]
     },
     "execution_count": 43,
     "metadata": {},
     "output_type": "execute_result"
    }
   ],
   "source": [
    "lst = [1,2,3]\n",
    "print(lst)\n",
    "lst.append(10)\n",
    "print(lst)\n",
    "a: int = 1\n",
    "cfg_dict = {\"F\": 1, \"G\": a} #словарь не изменяемый\n",
    "a += 5\n",
    "print(cfg_dict)\n",
    "print(cfg_dict)\n",
    "set(lst)\n",
    "lst"
   ]
  },
  {
   "cell_type": "code",
   "execution_count": 40,
   "id": "fb0461ca",
   "metadata": {},
   "outputs": [
    {
     "name": "stdout",
     "output_type": "stream",
     "text": [
      "(1, 2, 3)\n",
      "(1, 2, 3, 5, 3, 2)\n"
     ]
    }
   ],
   "source": [
    "v_tuple: tuple = (1, 2, 3) #кортежи - неизменяемы\n",
    "print(v_tuple)\n",
    "v_1_tuple: tuple = (1, 2, 3, 5, 3, 2)\n",
    "print(v_1_tuple)"
   ]
  },
  {
   "cell_type": "code",
   "execution_count": 41,
   "id": "0cf64a62",
   "metadata": {},
   "outputs": [
    {
     "name": "stdout",
     "output_type": "stream",
     "text": [
      "{1, 2, 3, 4, 5}\n"
     ]
    }
   ],
   "source": [
    "v_set: set = {1, 1, 1, 2, 2, 3, 4, 5}\n",
    "print(v_set)\n",
    "\n",
    "              "
   ]
  },
  {
   "cell_type": "code",
   "execution_count": null,
   "id": "b3618350",
   "metadata": {},
   "outputs": [],
   "source": []
  }
 ],
 "metadata": {
  "kernelspec": {
   "display_name": "Python 3 (ipykernel)",
   "language": "python",
   "name": "python3"
  },
  "language_info": {
   "codemirror_mode": {
    "name": "ipython",
    "version": 3
   },
   "file_extension": ".py",
   "mimetype": "text/x-python",
   "name": "python",
   "nbconvert_exporter": "python",
   "pygments_lexer": "ipython3",
   "version": "3.11.5"
  }
 },
 "nbformat": 4,
 "nbformat_minor": 5
}
