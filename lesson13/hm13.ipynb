{
  "nbformat": 4,
  "nbformat_minor": 0,
  "metadata": {
    "colab": {
      "provenance": [],
      "authorship_tag": "ABX9TyOqNChB4pWov1TmZjW7/gBt",
      "include_colab_link": true
    },
    "kernelspec": {
      "name": "python3",
      "display_name": "Python 3"
    },
    "language_info": {
      "name": "python"
    }
  },
  "cells": [
    {
      "cell_type": "markdown",
      "metadata": {
        "id": "view-in-github",
        "colab_type": "text"
      },
      "source": [
        "<a href=\"https://colab.research.google.com/github/ssupessu/TMSds/blob/develop/lesson13/hm13.ipynb\" target=\"_parent\"><img src=\"https://colab.research.google.com/assets/colab-badge.svg\" alt=\"Open In Colab\"/></a>"
      ]
    },
    {
      "cell_type": "markdown",
      "source": [
        "1.Из 1000 собранных на заводе телевизоров 5 штук бракованных. Эксперт проверяет один наугад выбранный телевизор из этой 1000.\n",
        "\n",
        "Найдите вероятность того, что проверяемый телевизор\n",
        "окажется бракованным."
      ],
      "metadata": {
        "id": "FzTjwSjb7YVj"
      }
    },
    {
      "cell_type": "code",
      "execution_count": null,
      "metadata": {
        "colab": {
          "base_uri": "https://localhost:8080/"
        },
        "id": "8aQCc0mY69TJ",
        "outputId": "e04b254f-41ec-408f-d983-94327a56bf56"
      },
      "outputs": [
        {
          "output_type": "execute_result",
          "data": {
            "text/plain": [
              "0.005"
            ]
          },
          "metadata": {},
          "execution_count": 1
        }
      ],
      "source": [
        "m = 5\n",
        "n = 1000\n",
        "p = m/n\n",
        "p"
      ]
    },
    {
      "cell_type": "markdown",
      "source": [
        "2. В урне 9 красных, 6 жёлтых и 5 зелёных шаров. Из урны наугад\n",
        "достают один шар. Какова вероятность того, что этот шар\n",
        "окажется жёлтым?"
      ],
      "metadata": {
        "id": "QnpP_hYX7X8X"
      }
    },
    {
      "cell_type": "code",
      "source": [
        "r = 9\n",
        "y = 6\n",
        "gr = 5\n",
        "p = y/(r + y + gr)\n",
        "p"
      ],
      "metadata": {
        "colab": {
          "base_uri": "https://localhost:8080/"
        },
        "id": "KYTiNZci8W1g",
        "outputId": "75837cd2-ae42-4b44-cbc6-c9d6d5c3ed27"
      },
      "execution_count": null,
      "outputs": [
        {
          "output_type": "execute_result",
          "data": {
            "text/plain": [
              "0.3"
            ]
          },
          "metadata": {},
          "execution_count": 2
        }
      ]
    },
    {
      "cell_type": "markdown",
      "source": [
        "3.В чемпионате мира участвуют 16 команд. С помощью жребия\n",
        "их нужно разделить на четыре группы по четыре команды в\n",
        "каждой. В ящике вперемешку лежат карточки с номерами групп:\n",
        "1, 1, 1, 1, 2, 2, 2, 2, 3, 3, 3, 3, 4, 4, 4, 4. Капитаны команд тянут по\n",
        "одной карточке. Какова вероятность того, что команда\n",
        "Португалии окажется во второй группе?"
      ],
      "metadata": {
        "id": "QHElrMSQ8z9A"
      }
    },
    {
      "cell_type": "code",
      "source": [
        "count_card = 16\n",
        "count_2 = 4\n",
        "p = count_2/count_card\n",
        "p\n"
      ],
      "metadata": {
        "id": "DHoEmSUU84KO",
        "colab": {
          "base_uri": "https://localhost:8080/"
        },
        "outputId": "d1cc63ec-c35e-48a5-ee1f-6e9fe57cf6ec"
      },
      "execution_count": null,
      "outputs": [
        {
          "output_type": "execute_result",
          "data": {
            "text/plain": [
              "0.25"
            ]
          },
          "metadata": {},
          "execution_count": 4
        }
      ]
    },
    {
      "cell_type": "markdown",
      "source": [
        "В группе туристов 8 человек. С помощью жребия они\n",
        "выбирают шестерых человек, которые должны идти в село в\n",
        "магазин за продуктами. Какова вероятность того, что турист Д.,\n",
        "входящий в состав группы, пойдёт в магазин?"
      ],
      "metadata": {
        "id": "yZ3E5QLlGThC"
      }
    },
    {
      "cell_type": "code",
      "source": [
        "p = 6/8\n",
        "p"
      ],
      "metadata": {
        "colab": {
          "base_uri": "https://localhost:8080/"
        },
        "id": "4punOFfSGVzF",
        "outputId": "50ae4f16-9c18-4f9c-c5e1-b380bf568ba8"
      },
      "execution_count": null,
      "outputs": [
        {
          "output_type": "execute_result",
          "data": {
            "text/plain": [
              "0.75"
            ]
          },
          "metadata": {},
          "execution_count": 5
        }
      ]
    },
    {
      "cell_type": "markdown",
      "source": [
        "\n",
        "В чемпионате по футболу участвуют 16 команд, которые\n",
        "жеребьевкой распределяются на 4 группы: A, B, C и D. Какова\n",
        "вероятность того, что команда Англии не попадает в группу A?\n",
        "\n"
      ],
      "metadata": {
        "id": "NZ7KTxZaG0aT"
      }
    },
    {
      "cell_type": "markdown",
      "source": [
        "Задача схожа с той, где речь шла про команду Португалии. Будем решать от обратного. Какова вероятность того, что Англия попадет в группу А"
      ],
      "metadata": {
        "id": "zvFpeTX9HNEM"
      }
    },
    {
      "cell_type": "code",
      "source": [
        "p = 4/16 # вероятность попадания в группу А\n",
        "p = 1-p # вероятность не попадания в группу А\n",
        "p"
      ],
      "metadata": {
        "colab": {
          "base_uri": "https://localhost:8080/"
        },
        "id": "ZZzYl-SQG32_",
        "outputId": "b67611e3-e9b3-47f4-b293-8432b0f2517f"
      },
      "execution_count": null,
      "outputs": [
        {
          "output_type": "execute_result",
          "data": {
            "text/plain": [
              "0.75"
            ]
          },
          "metadata": {},
          "execution_count": 8
        }
      ]
    },
    {
      "cell_type": "markdown",
      "source": [
        " В классе 21 учащийся, среди них две подруги - Аня и Нина.\n",
        "Класс случайным образом делят на семь групп, по 3 человека в\n",
        "каждой. Найдите вероятность того, что Аня и Нина окажутся в\n",
        "одной группе."
      ],
      "metadata": {
        "id": "ZvDbgW1AH-6Q"
      }
    },
    {
      "cell_type": "markdown",
      "source": [
        "Посчитаем вероятность того, если они попадут в группу(например) 3"
      ],
      "metadata": {
        "id": "NldJyEyfIp0m"
      }
    },
    {
      "cell_type": "code",
      "source": [
        "p1 = 3/21 # вероятность Ани\n",
        "p2 = 2/20 # вероятность Нины\n",
        "p = p1*p2 # вероятность их попадания в 3 группу"
      ],
      "metadata": {
        "id": "fbv_clDJICaH"
      },
      "execution_count": null,
      "outputs": []
    },
    {
      "cell_type": "markdown",
      "source": [
        "\n",
        "Для решения задачи умножим к-во всех групп"
      ],
      "metadata": {
        "id": "JOnP6F0AK3cb"
      }
    },
    {
      "cell_type": "code",
      "source": [
        "p * 7"
      ],
      "metadata": {
        "colab": {
          "base_uri": "https://localhost:8080/"
        },
        "id": "BYIe215-LF1i",
        "outputId": "878782dd-caf8-4631-de56-0ecb6dc08fd7"
      },
      "execution_count": null,
      "outputs": [
        {
          "output_type": "execute_result",
          "data": {
            "text/plain": [
              "0.09999999999999999"
            ]
          },
          "metadata": {},
          "execution_count": 11
        }
      ]
    },
    {
      "cell_type": "markdown",
      "source": [
        "Механические часы с двенадцатичасовым циферблатом в\n",
        "какой-то момент сломались и перестали идти. Найдите\n",
        "вероятность того, что часовая стрелка остановилась, достигнув\n",
        "отметки 7, но не дойдя до отметки 1.\n",
        "\n",
        "?"
      ],
      "metadata": {
        "id": "iARfD7-bLTCe"
      }
    },
    {
      "cell_type": "code",
      "source": [
        "p = 6/12\n",
        "p"
      ],
      "metadata": {
        "colab": {
          "base_uri": "https://localhost:8080/"
        },
        "id": "z6zxJFzLLdNW",
        "outputId": "198832de-2316-4cbe-8412-dd0f54a067f5"
      },
      "execution_count": null,
      "outputs": [
        {
          "output_type": "execute_result",
          "data": {
            "text/plain": [
              "0.5"
            ]
          },
          "metadata": {},
          "execution_count": 20
        }
      ]
    },
    {
      "cell_type": "markdown",
      "source": [
        "Механические часы с двенадцатичасовым циферблатом в\n",
        "какой-то момент сломались и перестали ходить. Найдите\n",
        "вероятность того, что часовая стрелка застыла, достигнув\n",
        "отметки 6, но не дойдя до отметки 9 часов.\n",
        "\n",
        "?"
      ],
      "metadata": {
        "id": "LUs8-Ry1Ldck"
      }
    },
    {
      "cell_type": "code",
      "source": [
        "p = 3/12\n",
        "p"
      ],
      "metadata": {
        "id": "HLkJGjROLj4a",
        "colab": {
          "base_uri": "https://localhost:8080/"
        },
        "outputId": "81455873-77c8-4c4b-91d1-4878525a8423"
      },
      "execution_count": 2,
      "outputs": [
        {
          "output_type": "execute_result",
          "data": {
            "text/plain": [
              "0.25"
            ]
          },
          "metadata": {},
          "execution_count": 2
        }
      ]
    },
    {
      "cell_type": "markdown",
      "source": [
        "В случайном эксперименте симметричную монету бросают 2\n",
        "раза. Найдите вероятность того, что орел выпадет ровно 1 раз"
      ],
      "metadata": {
        "id": "7vUrldZyLkTo"
      }
    },
    {
      "cell_type": "code",
      "source": [
        "p = 1/2 * 1/2\n",
        "p"
      ],
      "metadata": {
        "id": "Uk47ttu5Ll8_",
        "colab": {
          "base_uri": "https://localhost:8080/"
        },
        "outputId": "9a1681bc-e1c2-4722-b1a9-c2b6033c0ffd"
      },
      "execution_count": 3,
      "outputs": [
        {
          "output_type": "execute_result",
          "data": {
            "text/plain": [
              "0.25"
            ]
          },
          "metadata": {},
          "execution_count": 3
        }
      ]
    },
    {
      "cell_type": "markdown",
      "source": [
        " В случайном эксперименте симметричную монету бросают\n",
        "дважды. Найдите вероятность того, что орёл не выпадет ни разу."
      ],
      "metadata": {
        "id": "7QP501NeMAII"
      }
    },
    {
      "cell_type": "code",
      "source": [
        "p = 1/2 * 1/2\n",
        "p"
      ],
      "metadata": {
        "id": "pK16jtzAMCRB"
      },
      "execution_count": null,
      "outputs": []
    },
    {
      "cell_type": "markdown",
      "source": [
        "Вероятность того, что новая шариковая ручка пишет плохо\n",
        "(или не пишет), равна 0,19. Покупатель в магазине выбирает одну\n",
        "такую ручку. Найдите вероятность того, что эта ручка пишет\n",
        "хорошо"
      ],
      "metadata": {
        "id": "ePcZeLqZMKXJ"
      }
    },
    {
      "cell_type": "code",
      "source": [
        "p_pen_bad = 0.19\n",
        "p_pen_good = 1 - p_pen_bad\n",
        "p_pen_good"
      ],
      "metadata": {
        "colab": {
          "base_uri": "https://localhost:8080/"
        },
        "id": "SUwarIH5MM-_",
        "outputId": "e40f71fd-ff65-497b-9ac3-399ee8b51fcb"
      },
      "execution_count": null,
      "outputs": [
        {
          "output_type": "execute_result",
          "data": {
            "text/plain": [
              "0.81"
            ]
          },
          "metadata": {},
          "execution_count": 16
        }
      ]
    },
    {
      "cell_type": "markdown",
      "source": [
        " При изготовлении подшипников диаметром 67 мм\n",
        "вероятность того, что диаметр будет отличаться от заданного не\n",
        "больше, чем на 0,01 мм, равна 0,965. Найдите вероятность того,\n",
        "что случайный подшипник будет иметь диаметр меньше чем\n",
        "66,99 мм или больше чем 67,01 мм."
      ],
      "metadata": {
        "id": "VlOLrxsqMfyS"
      }
    },
    {
      "cell_type": "markdown",
      "source": [
        "66.9 <= x <= 67.01 -> 0.965\n",
        "\n",
        "66.9 > x || 67.01 < x -> ?"
      ],
      "metadata": {
        "id": "k2rdO55BNa-E"
      }
    },
    {
      "cell_type": "code",
      "source": [
        "p_difference = 0.965\n",
        "p_res = 1 - p_difference\n",
        "p_res"
      ],
      "metadata": {
        "colab": {
          "base_uri": "https://localhost:8080/"
        },
        "id": "kAbfHiqwMiKK",
        "outputId": "bbfd4074-7ba8-421d-af29-9e3c510f816a"
      },
      "execution_count": null,
      "outputs": [
        {
          "output_type": "execute_result",
          "data": {
            "text/plain": [
              "0.03500000000000003"
            ]
          },
          "metadata": {},
          "execution_count": 18
        }
      ]
    },
    {
      "cell_type": "markdown",
      "source": [
        " На экзамене по геометрии школьнику достаётся одна задача из\n",
        "сборника. Вероятность того, что эта задача по теме «Углы», равна\n",
        "0,1. Вероятность того, что это окажется задача по теме\n",
        "«Параллелограмм», равна 0,6. В сборнике нет задач, которые\n",
        "одновременно относятся к этим двум темам. Найдите вероятность\n",
        "того, что на экзамене школьнику достанется задача по одной из\n",
        "этих двух тем."
      ],
      "metadata": {
        "id": "dDzfGLR8N-bw"
      }
    },
    {
      "cell_type": "code",
      "source": [
        "p = 0.6 + 0.1\n",
        "p"
      ],
      "metadata": {
        "colab": {
          "base_uri": "https://localhost:8080/"
        },
        "id": "CDyN1FczObWd",
        "outputId": "0643105c-fc1f-47af-fc96-440e8ae75750"
      },
      "execution_count": null,
      "outputs": [
        {
          "output_type": "execute_result",
          "data": {
            "text/plain": [
              "0.7"
            ]
          },
          "metadata": {},
          "execution_count": 19
        }
      ]
    }
  ]
}