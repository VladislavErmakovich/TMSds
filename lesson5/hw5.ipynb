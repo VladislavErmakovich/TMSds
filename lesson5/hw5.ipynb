{
 "cells": [
  {
   "cell_type": "code",
   "execution_count": 23,
   "id": "842641eb",
   "metadata": {},
   "outputs": [
    {
     "data": {
      "text/plain": [
       "['Выпал', 'снег,', 'значит', 'наступила', 'зима.']"
      ]
     },
     "execution_count": 23,
     "metadata": {},
     "output_type": "execute_result"
    }
   ],
   "source": [
    "#Напишите функцию для разделения строки и преобразования ее в список слов. Пример \"Robin Singh\" ==> [\"Robin\", \"Singh\"]\n",
    "\n",
    "def splitting_a_line(string) -> list:\n",
    "    lst = string.split()\n",
    "    return lst\n",
    "\n",
    "str = \"Выпал снег, значит наступила зима.\"\n",
    "splitting_a_line(str)\n"
   ]
  },
  {
   "cell_type": "code",
   "execution_count": 1,
   "id": "e8920c97",
   "metadata": {},
   "outputs": [
    {
     "name": "stdout",
     "output_type": "stream",
     "text": [
      "Введите сколько часов Натан ездил на велосипеде:5\n",
      "\n",
      "Столько воды выпил Натан:\n"
     ]
    },
    {
     "data": {
      "text/plain": [
       "2"
      ]
     },
     "execution_count": 1,
     "metadata": {},
     "output_type": "execute_result"
    }
   ],
   "source": [
    "\"\"\"\n",
    "\n",
    "Натан любит кататься на велосипеде. Поскольку Натан знает, как важно\n",
    "избегать обезвоживания, он выпивает 0,5 литра воды за час езды на\n",
    "велосипеде. Вам дано время в часах, и вам нужно вернуть количество\n",
    "литров, которое выпьет Натан, округленное до наименьшего значения.\n",
    "Пример time = 3 ----> litres = 1\n",
    "\n",
    "\"\"\"\n",
    "\n",
    "import math\n",
    "\n",
    "\n",
    "def natan(time) -> int:\n",
    "    litres = math.floor(time*0.5)\n",
    "    return litres\n",
    "   \n",
    "    \n",
    "time = 0 \n",
    "\n",
    "while True:\n",
    "    try:\n",
    "        time = int(input(f\"Введите сколько часов Натан ездил на велосипеде:\"))\n",
    "        if time >= 0:\n",
    "            break\n",
    "        else:\n",
    "            print(\"Неверное значение, введите заново...\")\n",
    "    except:\n",
    "        print(\"Неверное значение, введите заново...\")\n",
    "    \n",
    "print()\n",
    "print(\"Столько воды выпил Натан:\")\n",
    "natan(time)"
   ]
  },
  {
   "cell_type": "code",
   "execution_count": 4,
   "id": "3be0c696",
   "metadata": {},
   "outputs": [
    {
     "name": "stdout",
     "output_type": "stream",
     "text": [
      "Введите значение n: w43e5drtfyu\n",
      "Неверное значение, введите заново...\n",
      "Введите значение n: 12\n",
      "[12, 11, 10, 9, 8, 7, 6, 5, 4, 3, 2, 1]\n"
     ]
    }
   ],
   "source": [
    "\"\"\"\n",
    "\n",
    "Создайте функцию, которая возвращает список целых чисел от n до 1,\n",
    "где n>0. Пример: n=5-->[5,4,3,2,1]\n",
    "\n",
    "\"\"\"\n",
    "\n",
    "def n_to_one(n) -> list:\n",
    "    tmp = n\n",
    "    lst = []\n",
    "    for i in range(0, n):\n",
    "        lst.append(tmp)\n",
    "        tmp -=1\n",
    "    print(lst)\n",
    "\n",
    "while True:  \n",
    "        n = input(\"Введите значение n: \")\n",
    "        if n.isdigit():\n",
    "            n_to_one(int(n))\n",
    "            break\n",
    "        else:\n",
    "            print(\"Неверное значение, введите заново...\")\n"
   ]
  },
  {
   "cell_type": "code",
   "execution_count": 3,
   "id": "2f74c00d",
   "metadata": {},
   "outputs": [
    {
     "name": "stdout",
     "output_type": "stream",
     "text": [
      "Введите год:dfgh\n",
      "Неверное значение, введите заново...\n",
      "Введите год:123\n"
     ]
    },
    {
     "data": {
      "text/plain": [
       "2"
      ]
     },
     "execution_count": 3,
     "metadata": {},
     "output_type": "execute_result"
    }
   ],
   "source": [
    "\"\"\"\n",
    "\n",
    "Учитывая год, верните столетие, в котором он находится.\n",
    "Пример 1705 --> 18 1900 --> 19 1601 --> 17\n",
    "\n",
    "\"\"\"\n",
    "\n",
    "def year_century(year) -> int:\n",
    "    century = 0\n",
    "    \n",
    "    if (year % 100 > 0):\n",
    "        century = year//100 + 1\n",
    "    else:\n",
    "        century = year//100\n",
    "    return century\n",
    "\n",
    "\n",
    "year = 0\n",
    "while True:\n",
    "    try:\n",
    "        year = int(input(\"Введите год:\"))\n",
    "        if year >= 0:\n",
    "            break\n",
    "        else:\n",
    "            print(\"Неверное значение, введите заново...\")\n",
    "    except:\n",
    "        print(\"Неверное значение, введите заново...\") \n",
    "        \n",
    "year_century(year)\n"
   ]
  },
  {
   "cell_type": "code",
   "execution_count": 5,
   "id": "ac4489fb",
   "metadata": {},
   "outputs": [
    {
     "name": "stdout",
     "output_type": "stream",
     "text": [
      "Введите значение:-87652345\n"
     ]
    },
    {
     "data": {
      "text/plain": [
       "[5, 4, 3, 2, 5, 6, 7, 8]"
      ]
     },
     "execution_count": 5,
     "metadata": {},
     "output_type": "execute_result"
    }
   ],
   "source": [
    "\"\"\"\n",
    "\n",
    "Учитывая случайное неотрицательное число, вам необходимо вернуть\n",
    "цифры этого числа в массиве в обратном порядке. 35231 => [1,3,2,5,3]\n",
    "\n",
    "\"\"\"\n",
    "\n",
    "def fun(string) -> list:\n",
    "    \n",
    "    if string[0]==\"-\":\n",
    "        string = string.replace(\"-\",\"\")\n",
    "        lst = [int(i) for i in string]\n",
    "    else:\n",
    "        lst = [int(i) for i in string]\n",
    "    \n",
    "    lst.reverse()\n",
    "    return lst\n",
    "\n",
    "string = input(\"Введите значение:\")\n",
    "fun(string)\n",
    "     "
   ]
  },
  {
   "cell_type": "code",
   "execution_count": 88,
   "id": "aeb3f4a5",
   "metadata": {},
   "outputs": [
    {
     "name": "stdout",
     "output_type": "stream",
     "text": [
      "Введите значение n: 4\n",
      "[[1, 2, 3, 4], [8, 7, 6, 5], [9, 10, 11, 12], [16, 15, 14, 13]]\n",
      "\n",
      "[[1, 8, 9, 16], [2, 7, 10, 15], [3, 6, 11, 14], [4, 5, 12, 13]]\n"
     ]
    }
   ],
   "source": [
    "\"\"\"\n",
    "\n",
    "Получить квадратные матрицы порядка n (через список как на\n",
    "занятии), элементами которых являются заданные\n",
    "действительные числа 1, 2, ..., n*n, расположенные в ней по схемам,\n",
    "которые приведены на рисунках\n",
    "\n",
    "\"\"\"\n",
    "\n",
    "import numpy as np\n",
    "\n",
    "def fun_1(n):\n",
    "    lst = [[ 0 for column in range(n)] for row in range(n)]\n",
    "    num = 1\n",
    "    for i in range(n):\n",
    "        for j in range(n):\n",
    "            lst[i][j] = num\n",
    "            num += 1\n",
    "        if i % 2 != 0 and i != 0:\n",
    "            lst[i].reverse()\n",
    "    print(lst)\n",
    "    \n",
    "def fun_2(n):\n",
    "    lst = [[ 0 for column in range(n)] for row in range(n)]\n",
    "    num = 1\n",
    "    direction = 1\n",
    "    for j in range(n):\n",
    "        if direction == 1:\n",
    "            for i in range(n):\n",
    "                lst[i][j] = num\n",
    "                num += 1\n",
    "            direction = 0\n",
    "        else:\n",
    "            for i in range(n-1, -1, -1):\n",
    "                lst[i][j] = num\n",
    "                num += 1\n",
    "            direction = 1\n",
    "    print(lst)\n",
    "\n",
    "\n",
    "while True: \n",
    "    n = input(\"Введите значение n: \")\n",
    "    if n.isdigit(): \n",
    "        fun_1(int(n))\n",
    "        print()\n",
    "        fun_2(int(n))\n",
    "        break\n",
    "    else:\n",
    "        print(\"Неверное значение, введите заново...\")\n"
   ]
  }
 ],
 "metadata": {
  "kernelspec": {
   "display_name": "Python 3 (ipykernel)",
   "language": "python",
   "name": "python3"
  },
  "language_info": {
   "codemirror_mode": {
    "name": "ipython",
    "version": 3
   },
   "file_extension": ".py",
   "mimetype": "text/x-python",
   "name": "python",
   "nbconvert_exporter": "python",
   "pygments_lexer": "ipython3",
   "version": "3.11.5"
  }
 },
 "nbformat": 4,
 "nbformat_minor": 5
}
