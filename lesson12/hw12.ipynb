{
  "nbformat": 4,
  "nbformat_minor": 0,
  "metadata": {
    "colab": {
      "provenance": [],
      "authorship_tag": "ABX9TyO0eDMnb30KkwUXncNzAwjW",
      "include_colab_link": true
    },
    "kernelspec": {
      "name": "python3",
      "display_name": "Python 3"
    },
    "language_info": {
      "name": "python"
    }
  },
  "cells": [
    {
      "cell_type": "markdown",
      "metadata": {
        "id": "view-in-github",
        "colab_type": "text"
      },
      "source": [
        "<a href=\"https://colab.research.google.com/github/ssupessu/TMSds/blob/develop/lesson12/hw12.ipynb\" target=\"_parent\"><img src=\"https://colab.research.google.com/assets/colab-badge.svg\" alt=\"Open In Colab\"/></a>"
      ]
    },
    {
      "cell_type": "code",
      "execution_count": null,
      "metadata": {
        "id": "JnbT1g_ACkTq"
      },
      "outputs": [],
      "source": [
        "import numpy as np\n",
        "from scipy import stats\n",
        "import matplotlib.pyplot as plt\n",
        "from scipy.special import perm, comb, factorial"
      ]
    },
    {
      "cell_type": "markdown",
      "source": [
        "# Задачи по теории вероятностей"
      ],
      "metadata": {
        "id": "WhCUDhAbDkkt"
      }
    },
    {
      "cell_type": "markdown",
      "source": [
        "Задача 1. В группе 30 студентов. Необходимо выбрать старосту, заместителя старосты и\n",
        "профорга. Сколько существует способов это сделать?"
      ],
      "metadata": {
        "id": "HKUw9HzTDidc"
      }
    },
    {
      "cell_type": "code",
      "source": [
        "k = np.array(3)\n",
        "n = np.array(30)\n",
        "perm(n, k)"
      ],
      "metadata": {
        "colab": {
          "base_uri": "https://localhost:8080/"
        },
        "id": "wec6B1CTDskD",
        "outputId": "aee35da1-844a-4e3a-a5e6-bedeb25f76cf"
      },
      "execution_count": null,
      "outputs": [
        {
          "output_type": "execute_result",
          "data": {
            "text/plain": [
              "24360.0"
            ]
          },
          "metadata": {},
          "execution_count": 16
        }
      ]
    },
    {
      "cell_type": "markdown",
      "source": [
        "Задача 2. Два почтальона должны разнести 10 писем по 10 адресам. Сколькими\n",
        "способами они могут распределить работу?"
      ],
      "metadata": {
        "id": "CI44d4JmEMDW"
      }
    },
    {
      "cell_type": "code",
      "source": [
        "n = 2\n",
        "k = 10\n",
        "n**k"
      ],
      "metadata": {
        "colab": {
          "base_uri": "https://localhost:8080/"
        },
        "id": "aD94SADDFIez",
        "outputId": "6b004b42-5b35-4abd-fd84-d854c8854bd6"
      },
      "execution_count": null,
      "outputs": [
        {
          "output_type": "execute_result",
          "data": {
            "text/plain": [
              "1024"
            ]
          },
          "metadata": {},
          "execution_count": 17
        }
      ]
    },
    {
      "cell_type": "markdown",
      "source": [
        "Задача 3. В ящике 100 деталей, из них 30 – деталей 1-го сорта, 50 – 2-го, остальные – 3-\n",
        "го. Сколько существует способов извлечения из ящика одной детали 1-го или 2-го сорта?"
      ],
      "metadata": {
        "id": "XCU0mTSlFhgy"
      }
    },
    {
      "cell_type": "code",
      "source": [
        "t1 = 30\n",
        "t2 = 50\n",
        "t1 + t2"
      ],
      "metadata": {
        "colab": {
          "base_uri": "https://localhost:8080/"
        },
        "id": "Yet4Fo-BFkXy",
        "outputId": "36c740a0-ccdb-4a2c-df5b-20fa0187437c"
      },
      "execution_count": null,
      "outputs": [
        {
          "output_type": "execute_result",
          "data": {
            "text/plain": [
              "80"
            ]
          },
          "metadata": {},
          "execution_count": 18
        }
      ]
    },
    {
      "cell_type": "markdown",
      "source": [
        "Задача 5. Порядок выступления 7 участников конкурса определяется жребием. Сколько\n",
        "различных вариантов жеребьевки при этом возможно?"
      ],
      "metadata": {
        "id": "hu1hIlO6GPio"
      }
    },
    {
      "cell_type": "code",
      "source": [
        "n = np.array(7)\n",
        "print(factorial(n,exact=True))"
      ],
      "metadata": {
        "colab": {
          "base_uri": "https://localhost:8080/"
        },
        "id": "v3VGhLw6GRys",
        "outputId": "500bc03a-c2ba-4021-e41f-c1db5d19fd13"
      },
      "execution_count": null,
      "outputs": [
        {
          "output_type": "stream",
          "name": "stdout",
          "text": [
            "5040\n"
          ]
        }
      ]
    },
    {
      "cell_type": "markdown",
      "source": [
        "Задача 6. В конкурсе по 5 номинациям участвуют 10 кинофильмов. Сколько существует\n",
        "вариантов распределения призов, если по всем номинациям установлены различные\n",
        "премии?"
      ],
      "metadata": {
        "id": "Hblo-EeeHObq"
      }
    },
    {
      "cell_type": "code",
      "source": [
        "n = 10\n",
        "k = 5\n",
        "n**k"
      ],
      "metadata": {
        "colab": {
          "base_uri": "https://localhost:8080/"
        },
        "id": "qCtrrNDUHTJ_",
        "outputId": "28af8aaa-9d6a-4918-b754-9dc18773ca24"
      },
      "execution_count": null,
      "outputs": [
        {
          "output_type": "execute_result",
          "data": {
            "text/plain": [
              "100000"
            ]
          },
          "metadata": {},
          "execution_count": 20
        }
      ]
    },
    {
      "cell_type": "markdown",
      "source": [
        "Задача 7. В шахматном турнире участвуют 16 человек. Сколько партий должно быть\n",
        "сыграно в турнире, если между любыми двумя участниками должна быть сыграна одна\n",
        "партия?"
      ],
      "metadata": {
        "id": "9nSIt9iNIBL7"
      }
    },
    {
      "cell_type": "code",
      "source": [
        "k = np.array(2)\n",
        "n = np.array(16)\n",
        "comb(n, k)"
      ],
      "metadata": {
        "colab": {
          "base_uri": "https://localhost:8080/"
        },
        "id": "FNSiUHlPICxh",
        "outputId": "3f19c03e-c933-42ea-eaa5-2b0484d57b0f"
      },
      "execution_count": null,
      "outputs": [
        {
          "output_type": "execute_result",
          "data": {
            "text/plain": [
              "120.0"
            ]
          },
          "metadata": {},
          "execution_count": 21
        }
      ]
    },
    {
      "cell_type": "markdown",
      "source": [
        "Задача 8. В условиях задачи 6 определить, сколько существует вариантов распределения\n",
        "призов, если по всем номинациям установлены одинаковые призы?"
      ],
      "metadata": {
        "id": "x_GlQPrfIfxk"
      }
    },
    {
      "cell_type": "code",
      "source": [
        "k = np.array(5)\n",
        "n = np.array(10)\n",
        "comb(n, k, repetition=True)"
      ],
      "metadata": {
        "colab": {
          "base_uri": "https://localhost:8080/"
        },
        "id": "b8DAGb5iIjXR",
        "outputId": "23c5a93a-5fb8-49e2-db9d-ccd9c67f13b9"
      },
      "execution_count": null,
      "outputs": [
        {
          "output_type": "execute_result",
          "data": {
            "text/plain": [
              "2002.0"
            ]
          },
          "metadata": {},
          "execution_count": 22
        }
      ]
    },
    {
      "cell_type": "markdown",
      "source": [
        "Задача 9. Садовник должен в течении трех дней посадить 6 деревьев. Сколькими\n",
        "способами он может распределить по дням работу, если будет сажать не менее одного\n",
        "дерева в день?"
      ],
      "metadata": {
        "id": "S_QXRVXSJP3Z"
      }
    },
    {
      "cell_type": "markdown",
      "source": [
        "ряд из 6 деревьев, промежутков 5 всего между ними, границы 2(чтобы показать в какие дни сколько сделано)"
      ],
      "metadata": {
        "id": "DclIMSMq_Vnp"
      }
    },
    {
      "cell_type": "code",
      "source": [
        "comb(5, 2, repetition=False)"
      ],
      "metadata": {
        "id": "4fsyF1EBJSWs",
        "colab": {
          "base_uri": "https://localhost:8080/"
        },
        "outputId": "bc732a93-badd-4ad1-a634-1e6296d1201f"
      },
      "execution_count": null,
      "outputs": [
        {
          "output_type": "execute_result",
          "data": {
            "text/plain": [
              "10.0"
            ]
          },
          "metadata": {},
          "execution_count": 23
        }
      ]
    },
    {
      "cell_type": "markdown",
      "source": [
        "Задача 10. Сколько существует четырехзначных чисел (возможно, начинающихся с нуля),\n",
        "сумма цифр которых равна 5?"
      ],
      "metadata": {
        "id": "AaXwXwQf_3Na"
      }
    },
    {
      "cell_type": "markdown",
      "source": [
        "формула к-во перестановок с повтерением"
      ],
      "metadata": {
        "id": "-LxWWQXNGXgO"
      }
    },
    {
      "cell_type": "markdown",
      "source": [
        "5000\n",
        "\n",
        "4100\n",
        "\n",
        "3200\n",
        "\n",
        "2210\n",
        "\n",
        "2111\n",
        "\n",
        "1111"
      ],
      "metadata": {
        "id": "xesv2qxvBLES"
      }
    },
    {
      "cell_type": "code",
      "source": [
        "comb_05 =  factorial(4)/factorial(3)\n",
        "comb_410 = factorial(4)/factorial(2)\n",
        "comb_320 = factorial(4)/factorial(2)\n",
        "comb_210 = factorial(4)/factorial(2)\n",
        "comb_21 = factorial(4)/factorial(3)\n",
        "comb_1 = factorial(4)/factorial(4)\n",
        "res = comb_05 + comb_410 + comb_320 + comb_210 -comb_21 + comb_1\n",
        "res"
      ],
      "metadata": {
        "colab": {
          "base_uri": "https://localhost:8080/"
        },
        "id": "om38YTQ7AWR8",
        "outputId": "bfa2d233-0d63-4e15-df21-fc8c84863819"
      },
      "execution_count": null,
      "outputs": [
        {
          "output_type": "execute_result",
          "data": {
            "text/plain": [
              "37.0"
            ]
          },
          "metadata": {},
          "execution_count": 24
        }
      ]
    },
    {
      "cell_type": "markdown",
      "source": [
        "Задача 11. Сколькими способами можно разбить группу из 25 студентов на три подгруппы\n",
        "А, В и С по 6, 9 и 10 человек соответственно?"
      ],
      "metadata": {
        "id": "qFShEG7yF-qw"
      }
    },
    {
      "cell_type": "code",
      "source": [
        "res = factorial(25)/(factorial(6)*factorial(9)*factorial(10))\n",
        "round(res)"
      ],
      "metadata": {
        "colab": {
          "base_uri": "https://localhost:8080/"
        },
        "id": "1TC_2qc1GBeQ",
        "outputId": "317fbf59-9607-45f4-cd9e-4d340e2d4fd3"
      },
      "execution_count": null,
      "outputs": [
        {
          "output_type": "execute_result",
          "data": {
            "text/plain": [
              "16360143800"
            ]
          },
          "metadata": {},
          "execution_count": 25
        }
      ]
    },
    {
      "cell_type": "markdown",
      "source": [
        "Задача 12. Сколько существует семизначных чисел, состоящих из цифр 4, 5 и 6, в которых\n",
        "цифра 4 повторяется 3 раза, а цифры 5 и 6 – по 2 раза?"
      ],
      "metadata": {
        "id": "nvu9I2TNHp2P"
      }
    },
    {
      "cell_type": "code",
      "source": [
        "res = factorial(7)/(factorial(3)*factorial(2)*factorial(2))\n",
        "res"
      ],
      "metadata": {
        "colab": {
          "base_uri": "https://localhost:8080/"
        },
        "id": "5XzihYX1Hrj8",
        "outputId": "37912465-62ff-4bea-df79-ee5b43f62387"
      },
      "execution_count": null,
      "outputs": [
        {
          "output_type": "execute_result",
          "data": {
            "text/plain": [
              "210.0"
            ]
          },
          "metadata": {},
          "execution_count": 26
        }
      ]
    },
    {
      "cell_type": "markdown",
      "source": [
        "# Классическая вероятностная модель. Геометрическая вероятность"
      ],
      "metadata": {
        "id": "1hCVVA4iICJh"
      }
    },
    {
      "cell_type": "markdown",
      "source": [
        "В ящике 5 апельсинов и 4 яблока. Наудачу выбираются 3 фрукта. Какова\n",
        "вероятность, что все три фрукта – апельсины?\n"
      ],
      "metadata": {
        "id": "zdFK-z_6ILbf"
      }
    },
    {
      "cell_type": "code",
      "source": [
        "fr = np.array(9)\n",
        "apl = np.array(4)\n",
        "org = np.array(5)\n",
        "k = np.array(3)\n",
        "res =(org/fr)*(org-1)/(fr-1)*(org-2)/(fr-2)\n",
        "res*100"
      ],
      "metadata": {
        "colab": {
          "base_uri": "https://localhost:8080/"
        },
        "id": "pYXO8460IJ0q",
        "outputId": "bb206265-160a-4e03-eed8-9fff1b8efb2a"
      },
      "execution_count": null,
      "outputs": [
        {
          "output_type": "execute_result",
          "data": {
            "text/plain": [
              "11.904761904761905"
            ]
          },
          "metadata": {},
          "execution_count": 14
        }
      ]
    },
    {
      "cell_type": "markdown",
      "source": [
        "Задача 2. Преподаватель предлагает каждому из трех студентов задумать любое число от\n",
        "1 до 10. Считая, что выбор каждым из студентов любого числа из заданных\n",
        "равновозможен, найти вероятность того, что у кого-то из них задуманные числа совпадут."
      ],
      "metadata": {
        "id": "6ipmWxZkLEqx"
      }
    },
    {
      "cell_type": "code",
      "source": [
        "n = 10**3\n",
        "m = 1000-10*9*8\n",
        "res = m/n\n",
        "res"
      ],
      "metadata": {
        "colab": {
          "base_uri": "https://localhost:8080/"
        },
        "id": "OpzLEZJbLJNG",
        "outputId": "467f116e-71aa-4bac-da26-9d5e92303829"
      },
      "execution_count": null,
      "outputs": [
        {
          "output_type": "execute_result",
          "data": {
            "text/plain": [
              "0.28"
            ]
          },
          "metadata": {},
          "execution_count": 15
        }
      ]
    },
    {
      "cell_type": "markdown",
      "source": [
        "Задача 3. Найти вероятность того, что в 8-значном числе ровно 4 цифры совпадают, а\n",
        "остальные различны."
      ],
      "metadata": {
        "id": "5QDFijm5N-Bz"
      }
    },
    {
      "cell_type": "markdown",
      "source": [
        "?"
      ],
      "metadata": {
        "id": "QbNs0Q36QJ4G"
      }
    },
    {
      "cell_type": "code",
      "source": [
        "n = 10**8\n",
        "m = 10 * comb(8,4) * perm(9,4)\n",
        "res = m/n\n",
        "res"
      ],
      "metadata": {
        "colab": {
          "base_uri": "https://localhost:8080/"
        },
        "id": "vPKyEpNkN91A",
        "outputId": "cf06c3f0-8d1d-4598-fd9e-6b4ecb9cc949"
      },
      "execution_count": null,
      "outputs": [
        {
          "output_type": "execute_result",
          "data": {
            "text/plain": [
              "0.021168"
            ]
          },
          "metadata": {},
          "execution_count": 30
        }
      ]
    },
    {
      "cell_type": "markdown",
      "source": [
        "Задача 4. Шесть клиентов случайным образом обращаются в 5 фирм. Найти вероятность\n",
        "того, что хотя бы в одну фирму никто не обратится"
      ],
      "metadata": {
        "id": "Hjp_sP0nQMCJ"
      }
    },
    {
      "cell_type": "markdown",
      "source": [
        "будем решать обратную задачу(вероятность того, что во все фирмы обралились)\n",
        "\n",
        "\n",
        "1 - 2\n",
        "\n",
        "1 - 1\n",
        "\n",
        "1 - 1\n",
        "\n",
        "1 - 1\n",
        "\n",
        "1 - 1"
      ],
      "metadata": {
        "id": "6_sanqcuRccu"
      }
    },
    {
      "cell_type": "code",
      "source": [
        "n = 5**6\n",
        "m = 5*factorial(6)/(factorial(2))\n",
        "res = m/n\n",
        "1-res"
      ],
      "metadata": {
        "colab": {
          "base_uri": "https://localhost:8080/"
        },
        "id": "wZ8zMJWNQPJd",
        "outputId": "3939782d-fb03-4b32-e9e8-21fc49067583"
      },
      "execution_count": null,
      "outputs": [
        {
          "output_type": "execute_result",
          "data": {
            "text/plain": [
              "0.8848"
            ]
          },
          "metadata": {},
          "execution_count": 31
        }
      ]
    },
    {
      "cell_type": "markdown",
      "source": [
        "#  Основные формулы теории вероятностей"
      ],
      "metadata": {
        "id": "eeiLB4J6STz2"
      }
    },
    {
      "cell_type": "markdown",
      "source": [
        "Задача 1. В ящике 10 красных и 5 синих пуговиц. Вынимаются наудачу две пуговицы.\n",
        "Какова вероятность, что пуговицы будут одноцветными?"
      ],
      "metadata": {
        "id": "2UHg94C_SXgz"
      }
    },
    {
      "cell_type": "code",
      "source": [
        "n = comb(15,2)\n",
        "m = comb(10,2) + comb(5,2)\n",
        "res = m/n\n",
        "res"
      ],
      "metadata": {
        "colab": {
          "base_uri": "https://localhost:8080/"
        },
        "id": "xrM6nlYFSZoM",
        "outputId": "1efd500f-7b69-44f0-ace7-34310cc3a520"
      },
      "execution_count": null,
      "outputs": [
        {
          "output_type": "execute_result",
          "data": {
            "text/plain": [
              "0.5238095238095238"
            ]
          },
          "metadata": {},
          "execution_count": 32
        }
      ]
    },
    {
      "cell_type": "markdown",
      "source": [
        "Задача 2. Среди сотрудников фирмы 28% знают английский язык, 30% – немецкий, 42% –\n",
        "французский; английский и немецкий – 8%, английский и французский – 10%, немецкий и\n",
        "французский – 5%, все три языка – 3%. Найти вероятность того, что случайно выбранный\n",
        "сотрудник фирмы: а) знает английский или немецкий; б) знает английский, немецкий или\n",
        "французский; в) не знает ни один из перечисленных языков"
      ],
      "metadata": {
        "id": "nQwo-UCESaiw"
      }
    },
    {
      "cell_type": "code",
      "source": [
        "p_english = 0.28\n",
        "p_german = 0.3\n",
        "p_french = 0.42\n",
        "p_eng_and_ger = 0.08\n",
        "p_eng_and_fr = 0.1\n",
        "p_ger_and_fr = 0.05\n",
        "p_all = 0.03\n",
        "\n",
        "p_eng_or_ger = p_english +p_german - p_eng_and_ger\n",
        "print(f\"а) знает английский или немецкий: {p_eng_or_ger*100}%\")\n",
        "\n",
        "\n",
        "p_eng_or_ger_fr = p_english + p_german + p_french - p_eng_and_ger - p_eng_and_fr-p_ger_and_fr + p_all\n",
        "print(f\"б) знает английский, немецкий или французский: {p_eng_or_ger_fr*100}%\")\n",
        "\n",
        "p_not_language = 1 - p_eng_or_ger_fr\n",
        "print(f\"в) не знает ни один из перечисленных языков: {p_not_language*100}%\")\n"
      ],
      "metadata": {
        "colab": {
          "base_uri": "https://localhost:8080/"
        },
        "id": "gQlgrZpkScj7",
        "outputId": "81d46f11-5572-4bae-a995-72f820a113bc"
      },
      "execution_count": null,
      "outputs": [
        {
          "output_type": "stream",
          "name": "stdout",
          "text": [
            "а) знает английский или немецкий: 50.000000000000014\n",
            "б) знает английский, немецкий или французский: 80.0\n",
            "в) не знает ни один из перечисленных языков: 19.999999999999996\n"
          ]
        }
      ]
    },
    {
      "cell_type": "markdown",
      "source": [
        "Задача 3. В семье – двое детей. Какова вероятность, что старший ребенок – мальчик, если\n",
        "известно, что в семье есть дети обоего пола?"
      ],
      "metadata": {
        "id": "Mso-Vnp7ScPw"
      }
    },
    {
      "cell_type": "code",
      "source": [
        "k = 1/2\n",
        "k"
      ],
      "metadata": {
        "id": "I4XDDnJAScyT",
        "outputId": "11a54198-6c44-4391-a6fd-54739720eb65",
        "colab": {
          "base_uri": "https://localhost:8080/"
        }
      },
      "execution_count": null,
      "outputs": [
        {
          "output_type": "execute_result",
          "data": {
            "text/plain": [
              "0.5"
            ]
          },
          "metadata": {},
          "execution_count": 3
        }
      ]
    }
  ]
}