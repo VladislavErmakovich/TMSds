{
 "cells": [
  {
   "cell_type": "code",
   "execution_count": 4,
   "id": "8c4fe718",
   "metadata": {},
   "outputs": [
    {
     "name": "stdout",
     "output_type": "stream",
     "text": [
      "y1 = 10.0, y2 = 2.0\n"
     ]
    }
   ],
   "source": [
    "#y**2 - 12*y + 20 = 0\n",
    "\n",
    "D = (-12)**2 - 4*20\n",
    "if D >= 0:\n",
    "    y_1 = (12 + D**0.5) / 2\n",
    "    y_2 = (12 - D**0.5) / 2\n",
    "    print(f\"y1 = {y_1}, y2 = {y_2}\")\n",
    "else:\n",
    "    print(\"Решений нет\")\n",
    "    "
   ]
  },
  {
   "cell_type": "code",
   "execution_count": 11,
   "id": "764120ff",
   "metadata": {},
   "outputs": [
    {
     "name": "stdout",
     "output_type": "stream",
     "text": [
      "z1 = 9.0, z2 = 8.0\n"
     ]
    }
   ],
   "source": [
    "#z**2 + 17*z + 72 = 0\n",
    "\n",
    "D = 17**2 - 4*72\n",
    "\n",
    "if D >= 0:\n",
    "    z_1 = (17 + D**0.5) / 2\n",
    "    z_2 = (17 - D**0.5) / 2\n",
    "    print(f\"z1 = {z_1}, z2 = {z_2}\")\n",
    "else:\n",
    "    print(\"Решений нет, так как D < 0\")\n",
    "    "
   ]
  },
  {
   "cell_type": "code",
   "execution_count": 7,
   "id": "1ddba80e",
   "metadata": {},
   "outputs": [
    {
     "name": "stdout",
     "output_type": "stream",
     "text": [
      "x1 = 16.0, x2 = 1.0\n"
     ]
    }
   ],
   "source": [
    "#x**2 - 7*x - 44 = 0\n",
    "\n",
    "D = (-7)**2 - 4*(-44)\n",
    "\n",
    "if D >= 0:\n",
    "    x_1 = (17 + D**0.5) / 2\n",
    "    x_2 = (17 - D**0.5) / 2\n",
    "    print(f\"x1 = {x_1}, x2 = {x_2}\")\n",
    "else:\n",
    "    print(\"Решений нет, так как D < 0\")\n",
    "    "
   ]
  },
  {
   "cell_type": "code",
   "execution_count": 8,
   "id": "d581e7a5",
   "metadata": {},
   "outputs": [
    {
     "name": "stdout",
     "output_type": "stream",
     "text": [
      "y1 = 8.0, y2 = 1.0\n"
     ]
    }
   ],
   "source": [
    "#y**2 + 9*y + 8 = 0\n",
    "\n",
    "D = 9**2 - 4*8\n",
    "if D >= 0:\n",
    "    y_1 = (9 + D**0.5) / 2\n",
    "    y_2 = (9 - D**0.5) / 2\n",
    "    print(f\"y1 = {y_1}, y2 = {y_2}\")\n",
    "else:\n",
    "    print(\"Решений нет\")\n"
   ]
  },
  {
   "cell_type": "code",
   "execution_count": 12,
   "id": "52d5f052",
   "metadata": {},
   "outputs": [
    {
     "name": "stdout",
     "output_type": "stream",
     "text": [
      "b1 = 14.0, b2 = -2.0\n"
     ]
    }
   ],
   "source": [
    "#b**2 - 2*b - 63 = 0\n",
    "\n",
    "D = (-2)**2 - 4*(-63)\n",
    "if D >= 0:\n",
    "    b_1 = (12 + D**0.5) / 2\n",
    "    b_2 = (12 - D**0.5) / 2\n",
    "    print(f\"b1 = {b_1}, b2 = {b_2}\")\n",
    "else:\n",
    "    print(\"Решений нет\")\n",
    "    "
   ]
  },
  {
   "cell_type": "code",
   "execution_count": 78,
   "id": "06424641",
   "metadata": {},
   "outputs": [
    {
     "name": "stdout",
     "output_type": "stream",
     "text": [
      "[3, 2, 8, 5, 7, 9]\n",
      "[9, 7, 5, 8, 2, 3]\n"
     ]
    }
   ],
   "source": [
    "# Дан произвольный список. Представьте его в обратном порядке\n",
    "\n",
    "lst = [3, 2, 8, 5, 7, 9]\n",
    "\n",
    "print(lst)\n",
    "value_1 = 0\n",
    "for value_2 in range(len(lst)-1, len(lst)//2-1, -1):\n",
    "    tmp = lst[value_1]\n",
    "    lst[value_1] = lst[value_2]\n",
    "    lst[value_2] = tmp\n",
    "    value_1 += 1\n",
    "print(lst)\n"
   ]
  },
  {
   "cell_type": "code",
   "execution_count": 2,
   "id": "2b203b3f",
   "metadata": {},
   "outputs": [
    {
     "name": "stdout",
     "output_type": "stream",
     "text": [
      "[1, 2, 3, 4, 5]\n"
     ]
    },
    {
     "data": {
      "text/plain": [
       "[5, 2, 3, 4, 1]"
      ]
     },
     "execution_count": 2,
     "metadata": {},
     "output_type": "execute_result"
    }
   ],
   "source": [
    "\"\"\"\"\n",
    "\n",
    "Напишите функцию change(lst),\n",
    "которая принимает список и меняет местами его\n",
    "первый и последний элемент. В исходном\n",
    "списке минимум 2 элемента.\n",
    "\n",
    "\"\"\"\n",
    "\n",
    "lst = [1, 2, 3, 4, 5]\n",
    "\n",
    "def change(lst):\n",
    "    last = len(lst)-1\n",
    "    first = 0\n",
    "    \n",
    "    tmp = lst[first]\n",
    "    lst[first] = lst[last]\n",
    "    lst[last] = tmp\n",
    "\n",
    "print(lst)\n",
    "change(lst)\n",
    "lst\n"
   ]
  },
  {
   "cell_type": "code",
   "execution_count": 83,
   "id": "c29c2d21",
   "metadata": {},
   "outputs": [
    {
     "name": "stdout",
     "output_type": "stream",
     "text": [
      "7.5\n"
     ]
    }
   ],
   "source": [
    "#поиск «бесполезного» числа\n",
    "\n",
    "s = [4, 7, 2, 1, 15, 10, 8, 5]\n",
    "\n",
    "def useless(s):\n",
    "    max_value = s[0]\n",
    "    for i in range(1, len(s)):\n",
    "        if max_value < s[i]:\n",
    "            max_value = s[i]\n",
    "            \n",
    "    useless_val = max_value /2\n",
    "    print(useless_val)\n",
    "    \n",
    "useless(s)\n"
   ]
  },
  {
   "cell_type": "code",
   "execution_count": 4,
   "id": "2509ecbb",
   "metadata": {},
   "outputs": [
    {
     "name": "stdout",
     "output_type": "stream",
     "text": [
      "['крот', 'белка', 'выхухоль']\n",
      "\n",
      "['крот____', 'белка___', 'выхухоль']\n",
      "\n"
     ]
    }
   ],
   "source": [
    "#функция all_eq(lst)\n",
    "\n",
    "lst = ['крот', 'белка', 'выхухоль']\n",
    "\n",
    "print(lst)\n",
    "print()\n",
    "\n",
    "def all_eq(lst):\n",
    "    \n",
    "    max_len_of_word = len(lst[0])\n",
    "    index = 0\n",
    "    \n",
    "    for j in range(1, len(lst)):\n",
    "        if max_len_of_word < len(lst[j]):\n",
    "            max_len_of_word = len(lst[j])\n",
    "            index = j\n",
    "    \n",
    "    for j in range(0, len(lst)):\n",
    "        if index == j:\n",
    "            break\n",
    "        elif max_len_of_word > len(lst[j]):\n",
    "            lst[j] =lst[j] + (max_len_of_word - len(lst[j]))*'_'\n",
    "            \n",
    "all_eq(lst)     \n",
    "\n",
    "print(lst)\n",
    "print()\n"
   ]
  },
  {
   "cell_type": "code",
   "execution_count": 9,
   "id": "cd01db17",
   "metadata": {},
   "outputs": [
    {
     "name": "stdout",
     "output_type": "stream",
     "text": [
      "[1, 5, 7, 4, 3, 9, 8, 2]\n",
      "Количесвто итераций:49\n",
      "[1, 2, 3, 4, 5, 7, 8, 9]\n"
     ]
    }
   ],
   "source": [
    "#сортировка\n",
    "\n",
    "lst = [1, 5, 7, 4, 3, 9, 8, 2]\n",
    "\n",
    "def sort(lst):\n",
    "    cnt = 0\n",
    "    for _ in range(0, len(lst)-1):\n",
    "        for i in range(0, len(lst)-1):\n",
    "            cnt += 1\n",
    "            if lst[i] > lst[i+1]:\n",
    "                tmp = lst[i]\n",
    "                lst[i] = lst[i+1]\n",
    "                lst[i+1] = tmp\n",
    "    print(f\"Количесвто итераций:{cnt}\")\n",
    "\n",
    "print(lst)\n",
    "sort(lst)\n",
    "print(lst)"
   ]
  },
  {
   "cell_type": "code",
   "execution_count": null,
   "id": "f72e3312",
   "metadata": {},
   "outputs": [],
   "source": []
  }
 ],
 "metadata": {
  "kernelspec": {
   "display_name": "Python 3 (ipykernel)",
   "language": "python",
   "name": "python3"
  },
  "language_info": {
   "codemirror_mode": {
    "name": "ipython",
    "version": 3
   },
   "file_extension": ".py",
   "mimetype": "text/x-python",
   "name": "python",
   "nbconvert_exporter": "python",
   "pygments_lexer": "ipython3",
   "version": "3.11.5"
  }
 },
 "nbformat": 4,
 "nbformat_minor": 5
}
