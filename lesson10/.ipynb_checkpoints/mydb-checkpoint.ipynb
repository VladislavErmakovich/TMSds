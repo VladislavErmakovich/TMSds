{
 "cells": [
  {
   "cell_type": "code",
   "execution_count": 1,
   "metadata": {
    "colab": {
     "base_uri": "https://localhost:8080/"
    },
    "id": "6PIvHbX4v8O2",
    "outputId": "e5db6634-5144-4ea5-ed1e-bb49146b7d07"
   },
   "outputs": [
    {
     "name": "stdout",
     "output_type": "stream",
     "text": [
      "Requirement already satisfied: sqlalchemy in /usr/local/lib/python3.10/dist-packages (2.0.27)\n",
      "Requirement already satisfied: typing-extensions>=4.6.0 in /usr/local/lib/python3.10/dist-packages (from sqlalchemy) (4.10.0)\n",
      "Requirement already satisfied: greenlet!=0.4.17 in /usr/local/lib/python3.10/dist-packages (from sqlalchemy) (3.0.3)\n"
     ]
    }
   ],
   "source": [
    "!pip install sqlalchemy"
   ]
  },
  {
   "cell_type": "code",
   "execution_count": 72,
   "metadata": {
    "id": "fRAfKPDKwEAp"
   },
   "outputs": [],
   "source": [
    "import sqlalchemy as db\n",
    "engine = db.create_engine('sqlite:///mydb.db')"
   ]
  },
  {
   "cell_type": "code",
   "execution_count": 73,
   "metadata": {
    "id": "_aRGQuk4wHeg"
   },
   "outputs": [],
   "source": [
    "conn = engine.connect()"
   ]
  },
  {
   "cell_type": "code",
   "execution_count": 74,
   "metadata": {
    "id": "XvBlFEw2wJSX"
   },
   "outputs": [],
   "source": [
    "metadata = db.MetaData()"
   ]
  },
  {
   "cell_type": "code",
   "execution_count": 75,
   "metadata": {
    "id": "QIN7rex8wLbZ"
   },
   "outputs": [],
   "source": [
    "sportsmens = db.Table(\n",
    "    'Sportsmens', metadata,\n",
    "    db.Column('sportsmen_id', db.Integer, primary_key=True, autoincrement=True),\n",
    "    db.Column('first_name',db.String),\n",
    "    db.Column('last_name',db.String),\n",
    "    db.Column('place',db.Integer),\n",
    "    db.Column('category',db.Integer, db.ForeignKey('Categories.category_id')),\n",
    "    db.Column('age',db.Integer)\n",
    ")\n",
    "\n",
    "categories = db.Table(\n",
    "    'Categories', metadata,\n",
    "    db.Column('category_id', db.Integer, primary_key=True,autoincrement=True),\n",
    "    db.Column('name',db.String),\n",
    "    db.Column('count_sportsmens',db.Integer)\n",
    ")"
   ]
  },
  {
   "cell_type": "code",
   "execution_count": 76,
   "metadata": {
    "id": "la7xxGGzwNRF"
   },
   "outputs": [],
   "source": [
    "metadata.create_all(engine)"
   ]
  },
  {
   "cell_type": "code",
   "execution_count": 77,
   "metadata": {
    "id": "XWdtRE7Uwf1T"
   },
   "outputs": [],
   "source": [
    "insertion_1 = sportsmens.insert().values([\n",
    "    {'first_name': 'Oleg', 'last_name': 'Popov', 'place': 3, 'category': 1, 'age': 19 },\n",
    "    {'first_name': 'Geo', 'last_name': 'Lan', 'place': 1, 'category': 1, 'age': 16},\n",
    "    {'first_name': 'Dio', 'last_name': 'Fu', 'place': 2, 'category': 1, 'age': 35},\n",
    "    {'first_name': 'Nikita', 'last_name': 'Kravets', 'place': 2, 'category': 2, 'age': 17 },\n",
    "    {'first_name': 'Oleg', 'last_name': 'Dmitriev', 'place': 3, 'category': 2, 'age': 43} ,\n",
    "    {'first_name': 'Alex', 'last_name': 'Nad', 'place': 1, 'category': 2, 'age': 20}\n",
    "])"
   ]
  },
  {
   "cell_type": "code",
   "execution_count": 78,
   "metadata": {
    "colab": {
     "base_uri": "https://localhost:8080/"
    },
    "id": "1AJqw5-RwmeQ",
    "outputId": "f972b998-b613-4553-8880-cea2018df3f5"
   },
   "outputs": [
    {
     "data": {
      "text/plain": [
       "<sqlalchemy.engine.cursor.CursorResult at 0x78996e327f40>"
      ]
     },
     "execution_count": 78,
     "metadata": {},
     "output_type": "execute_result"
    }
   ],
   "source": [
    "conn.execute(insertion_1)"
   ]
  },
  {
   "cell_type": "code",
   "execution_count": 79,
   "metadata": {
    "id": "S8BDK0oWwonm"
   },
   "outputs": [],
   "source": [
    "insertion_2 = categories.insert().values([\n",
    "    {'name': 'Before 75kg', 'count_sportsmens': 15 },\n",
    "    {'name': 'After 75kg', 'count_sportsmens': 53 },\n",
    "])"
   ]
  },
  {
   "cell_type": "code",
   "execution_count": 80,
   "metadata": {
    "colab": {
     "base_uri": "https://localhost:8080/"
    },
    "id": "VFrZrBbFwqyf",
    "outputId": "6e029d62-0f11-4ac6-cc42-996f3d7c5319"
   },
   "outputs": [
    {
     "data": {
      "text/plain": [
       "<sqlalchemy.engine.cursor.CursorResult at 0x78996e3568c0>"
      ]
     },
     "execution_count": 80,
     "metadata": {},
     "output_type": "execute_result"
    }
   ],
   "source": [
    "conn.execute(insertion_2)"
   ]
  },
  {
   "cell_type": "code",
   "execution_count": 81,
   "metadata": {
    "colab": {
     "base_uri": "https://localhost:8080/"
    },
    "id": "Q7BL_3c3wyQ7",
    "outputId": "b94fe39f-0a54-4623-93fb-f4d57e1fc976"
   },
   "outputs": [
    {
     "data": {
      "text/plain": [
       "[(1, 'Oleg', 'Popov', 3, 1, 19),\n",
       " (2, 'Geo', 'Lan', 1, 1, 16),\n",
       " (3, 'Dio', 'Fu', 2, 1, 35),\n",
       " (4, 'Nikita', 'Kravets', 2, 2, 17),\n",
       " (5, 'Oleg', 'Dmitriev', 3, 2, 43),\n",
       " (6, 'Alex', 'Nad', 1, 2, 20)]"
      ]
     },
     "execution_count": 81,
     "metadata": {},
     "output_type": "execute_result"
    }
   ],
   "source": [
    "select_all_query = db.select(sportsmens)\n",
    "select_result = conn.execute(select_all_query)\n",
    "select_result.fetchall()"
   ]
  },
  {
   "cell_type": "code",
   "execution_count": 82,
   "metadata": {
    "colab": {
     "base_uri": "https://localhost:8080/"
    },
    "id": "734Fn_wZ6iSv",
    "outputId": "71fb8266-036e-44e7-f3b1-9766173cc730"
   },
   "outputs": [
    {
     "data": {
      "text/plain": [
       "[(1, 'Before 75kg', 15), (2, 'After 75kg', 53)]"
      ]
     },
     "execution_count": 82,
     "metadata": {},
     "output_type": "execute_result"
    }
   ],
   "source": [
    "select_all_query = db.select(categories)\n",
    "select_result = conn.execute(select_all_query)\n",
    "select_result.fetchall()"
   ]
  },
  {
   "cell_type": "markdown",
   "metadata": {
    "id": "pwsmmlW77LpN"
   },
   "source": [
    "## **HAVING**"
   ]
  },
  {
   "cell_type": "code",
   "execution_count": 84,
   "metadata": {
    "colab": {
     "base_uri": "https://localhost:8080/"
    },
    "id": "Mo66NGzO7KjU",
    "outputId": "0e1b14b8-d83e-47f1-ea26-f086b55c78e4"
   },
   "outputs": [
    {
     "data": {
      "text/plain": [
       "[(3, 'Dio', 'Fu', 2, 1, 35), (5, 'Oleg', 'Dmitriev', 3, 2, 43)]"
      ]
     },
     "execution_count": 84,
     "metadata": {},
     "output_type": "execute_result"
    }
   ],
   "source": [
    "query_having = db.select(sportsmens).group_by(sportsmens.c.sportsmen_id).having(db.func.max(sportsmens.c.age)>20)\n",
    "result = conn.execute(query_having)\n",
    "result.fetchall()"
   ]
  },
  {
   "cell_type": "markdown",
   "metadata": {
    "id": "6xOeq6beEQxZ"
   },
   "source": [
    "# **JOIN LEFT**"
   ]
  },
  {
   "cell_type": "code",
   "execution_count": 87,
   "metadata": {
    "id": "35U_-pyhEQi4"
   },
   "outputs": [],
   "source": [
    "query_join_left = db.select(sportsmens.c.first_name, categories.c.name).select_from(\n",
    "    db.outerjoin(sportsmens, categories, sportsmens.c.category == categories.c.category_id))"
   ]
  },
  {
   "cell_type": "code",
   "execution_count": 88,
   "metadata": {
    "colab": {
     "base_uri": "https://localhost:8080/"
    },
    "id": "F7K3mVxRE9z2",
    "outputId": "dc66c643-f7d0-4a99-c934-89eda5fc3475"
   },
   "outputs": [
    {
     "data": {
      "text/plain": [
       "[('Oleg', 'Before 75kg'),\n",
       " ('Geo', 'Before 75kg'),\n",
       " ('Dio', 'Before 75kg'),\n",
       " ('Nikita', 'After 75kg'),\n",
       " ('Oleg', 'After 75kg'),\n",
       " ('Alex', 'After 75kg')]"
      ]
     },
     "execution_count": 88,
     "metadata": {},
     "output_type": "execute_result"
    }
   ],
   "source": [
    "result_join_left = conn.execute(query_join_left)\n",
    "result_join_left.fetchall()"
   ]
  },
  {
   "cell_type": "markdown",
   "metadata": {
    "id": "ltZUx4f8FqjY"
   },
   "source": [
    "# **INNER JOIN**"
   ]
  },
  {
   "cell_type": "code",
   "execution_count": 92,
   "metadata": {
    "colab": {
     "base_uri": "https://localhost:8080/"
    },
    "id": "L8rVJP7zFu-y",
    "outputId": "ba3ea8a6-6003-4923-fff0-580c3cc102c2"
   },
   "outputs": [
    {
     "data": {
      "text/plain": [
       "[(1, 'Oleg', 'Popov', 3, 1, 19, 1, 'Before 75kg', 15),\n",
       " (2, 'Geo', 'Lan', 1, 1, 16, 1, 'Before 75kg', 15),\n",
       " (3, 'Dio', 'Fu', 2, 1, 35, 1, 'Before 75kg', 15),\n",
       " (4, 'Nikita', 'Kravets', 2, 2, 17, 2, 'After 75kg', 53),\n",
       " (5, 'Oleg', 'Dmitriev', 3, 2, 43, 2, 'After 75kg', 53),\n",
       " (6, 'Alex', 'Nad', 1, 2, 20, 2, 'After 75kg', 53)]"
      ]
     },
     "execution_count": 92,
     "metadata": {},
     "output_type": "execute_result"
    }
   ],
   "source": [
    "query_inner_join = db.select(sportsmens, categories).select_from(db.join(sportsmens, categories, sportsmens.c.category == categories.c.category_id))\n",
    "result_inner_join = conn.execute(query_inner_join)\n",
    "result_inner_join.fetchall()"
   ]
  },
  {
   "cell_type": "markdown",
   "metadata": {
    "id": "A1eeg1CNHZBw"
   },
   "source": [
    "# **UNION**"
   ]
  },
  {
   "cell_type": "code",
   "execution_count": 93,
   "metadata": {
    "id": "YmMU_UWlHYCQ"
   },
   "outputs": [],
   "source": [
    "query_name = db.select(sportsmens.c.first_name,sportsmens.c.last_name)\n",
    "query_category = db.select(categories.c.name, categories.c.count_sportsmens)\n"
   ]
  },
  {
   "cell_type": "code",
   "execution_count": 98,
   "metadata": {
    "colab": {
     "base_uri": "https://localhost:8080/"
    },
    "id": "T-gkINTDIVb4",
    "outputId": "abc84aad-8268-49ac-b900-e65c77dc4db5"
   },
   "outputs": [
    {
     "data": {
      "text/plain": [
       "[('Oleg', 'Popov'),\n",
       " ('Geo', 'Lan'),\n",
       " ('Dio', 'Fu'),\n",
       " ('Nikita', 'Kravets'),\n",
       " ('Oleg', 'Dmitriev'),\n",
       " ('Alex', 'Nad'),\n",
       " ('Before 75kg', 15),\n",
       " ('After 75kg', 53)]"
      ]
     },
     "execution_count": 98,
     "metadata": {},
     "output_type": "execute_result"
    }
   ],
   "source": [
    "query_union = db.union_all(query_name, query_category)\n",
    "result = conn.execute(query_union)\n",
    "result.fetchall()"
   ]
  },
  {
   "cell_type": "markdown",
   "metadata": {
    "id": "YjRCbVOMJXzZ"
   },
   "source": [
    "#**Подзопросы**"
   ]
  },
  {
   "cell_type": "code",
   "execution_count": 103,
   "metadata": {
    "colab": {
     "base_uri": "https://localhost:8080/"
    },
    "id": "hvhVGH6LJDdU",
    "outputId": "00c37de2-b7d3-40f2-a2aa-6acedbf91c67"
   },
   "outputs": [
    {
     "data": {
      "text/plain": [
       "[(4, 'Nikita', 'Kravets', 2, 2, 17),\n",
       " (5, 'Oleg', 'Dmitriev', 3, 2, 43),\n",
       " (6, 'Alex', 'Nad', 1, 2, 20)]"
      ]
     },
     "execution_count": 103,
     "metadata": {},
     "output_type": "execute_result"
    }
   ],
   "source": [
    "subquery = db.select(categories.c.category_id).where(categories.c.name == \"After 75kg\")\n",
    "query = db.select(sportsmens).where(sportsmens.c.category.in_(subquery))\n",
    "result_request = conn.execute(query)\n",
    "result_request.fetchall()"
   ]
  }
 ],
 "metadata": {
  "colab": {
   "provenance": []
  },
  "kernelspec": {
   "display_name": "Python 3 (ipykernel)",
   "language": "python",
   "name": "python3"
  },
  "language_info": {
   "codemirror_mode": {
    "name": "ipython",
    "version": 3
   },
   "file_extension": ".py",
   "mimetype": "text/x-python",
   "name": "python",
   "nbconvert_exporter": "python",
   "pygments_lexer": "ipython3",
   "version": "3.11.5"
  }
 },
 "nbformat": 4,
 "nbformat_minor": 1
}
